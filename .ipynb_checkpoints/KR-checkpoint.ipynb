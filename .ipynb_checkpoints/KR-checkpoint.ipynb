{
 "cells": [
  {
   "cell_type": "code",
   "execution_count": 1,
   "metadata": {
    "executionInfo": {
     "elapsed": 11419,
     "status": "ok",
     "timestamp": 1718008890116,
     "user": {
      "displayName": "Тихомиров Степан",
      "userId": "16626673966734884347"
     },
     "user_tz": -180
    },
    "id": "JYLYzvMv1YTP"
   },
   "outputs": [],
   "source": [
    "!pip install wandb -q\n",
    "!pip install e2cnn -q"
   ]
  },
  {
   "cell_type": "markdown",
   "metadata": {
    "id": "sMmVRAZsQ06X"
   },
   "source": [
    "## Импорты и инициализация констант"
   ]
  },
  {
   "cell_type": "code",
   "execution_count": 2,
   "metadata": {
    "executionInfo": {
     "elapsed": 3661,
     "status": "ok",
     "timestamp": 1718008894659,
     "user": {
      "displayName": "Тихомиров Степан",
      "userId": "16626673966734884347"
     },
     "user_tz": -180
    },
    "id": "K_1h7PrHgt2F"
   },
   "outputs": [],
   "source": [
    "# Imports\n",
    "from sklearn.model_selection import train_test_split\n",
    "from matplotlib import pyplot as plt\n",
    "\n",
    "import torch\n",
    "torch.manual_seed(0)\n",
    "import torch.nn as nn\n",
    "\n",
    "import torchvision\n",
    "from torch.optim import Adam\n",
    "\n",
    "import os\n",
    "os.chdir('/Users/stepantihomirov/Code/HSE/Equivariant-models')\n",
    "import wandb\n",
    "\n",
    "from data.data_prep import CustomImageDataset, Loader\n",
    "from models.e2cn import Model\n",
    "\n",
    "from data import transformation\n",
    "from torchvision import transforms\n",
    "from config_handler import handle_configs\n",
    "\n",
    "\n",
    "# Model Hyperparameters\n",
    "cuda = True\n",
    "DEVICE = torch.device(\"cuda\" if torch.cuda.is_available() else \"cpu\")\n",
    "\n",
    "data_config, model_config = handle_configs('./data_config.yaml', './model_config.yaml')"
   ]
  },
  {
   "cell_type": "code",
   "execution_count": 3,
   "metadata": {
    "colab": {
     "base_uri": "https://localhost:8080/",
     "height": 491
    },
    "executionInfo": {
     "elapsed": 4067,
     "status": "ok",
     "timestamp": 1717428013930,
     "user": {
      "displayName": "Тихомиров Степан",
      "userId": "16626673966734884347"
     },
     "user_tz": -180
    },
    "id": "0RGCVBxc3Fy_",
    "outputId": "ee69487a-4084-4060-eea6-05ac2350dd47"
   },
   "outputs": [
    {
     "data": {
      "text/plain": [
       "tensor([ 0.3231,  0.0938, -0.0084,  0.2651, -0.0152,  0.0600,  0.0000,  0.5627,\n",
       "         0.0000])"
      ]
     },
     "execution_count": 3,
     "metadata": {},
     "output_type": "execute_result"
    },
    {
     "data": {
      "image/png": "[encoded data removed]",
      "text/plain": [
       "<Figure size 640x480 with 2 Axes>"
      ]
     },
     "metadata": {},
     "output_type": "display_data"
    }
   ],
   "source": [
    "# Data load\n",
    "\n",
    "data = torch.load(data_config['path'])\n",
    "mask = data['labels'][:, 8] == 0\n",
    "imgs = data['imgs'][mask]\n",
    "labels = data['labels'][mask]\n",
    "\n",
    "\n",
    "plt.imshow(data['imgs'][mask][5])\n",
    "plt.colorbar()\n",
    "data['labels'][mask][5]"
   ]
  },
  {
   "cell_type": "markdown",
   "metadata": {
    "id": "DrvOHQcpRpTi"
   },
   "source": [
    "## Pipeline"
   ]
  },
  {
   "cell_type": "code",
   "execution_count": null,
   "metadata": {
    "id": "F9-sZgBqhpan"
   },
   "outputs": [],
   "source": [
    "class Pipeline:\n",
    "    def __init__(self, path):\n",
    "        data = torch.load(path)                          # Если необходимо присоединить аугментированный датасет для обучения\n",
    "        mask = data['labels'][:, 8] == 0                 #aug_data = torch.load(aug_path)\n",
    "        self.imgs = data['imgs'][mask]                   #torch.concat([data['imgs'][mask], aug_data['imgs']])\n",
    "        self.labels = data['labels'][mask]               #torch.concat([data['labels'][mask], aug_data['labels']])\n",
    "        self.model = Model().to(DEVICE)\n",
    "\n",
    "        self.loss = torch.nn.MSELoss()\n",
    "        self.optimizer = Adam(self.model.parameters(), lr=data_config['lr'])\n",
    "\n",
    "    \"\"\"\n",
    "        Класс инкапсулирующий логику обучения и инференса модели\n",
    "\n",
    "        params:\n",
    "          path - путь к данным .pt\n",
    "\n",
    "        methods:\n",
    "          train_loop - запуск обучения модели\n",
    "          _train_epoch() - (внутренний метод) обучение одной эпохи  (in: None, out: (long, long))\n",
    "          evaluate - инференс одного батча (in: torch.Tensor, out: (torch.Tensor, torch.Tensor))\n",
    "    \"\"\"\n",
    "\n",
    "\n",
    "    def train_loop(self):\n",
    "      print(\"Start training VAE...\")\n",
    "      self.model.train()\n",
    "\n",
    "      for epoch in range(data_config['epochs']):\n",
    "\n",
    "        train_loss, test_loss = self._train_epoch()\n",
    "        print(\"\\tEpoch\", epoch + 1, \"complete!\", \"\\tAverage train Loss: \", train_loss,\\\n",
    "          \"\\tAverage test Loss: \", test_loss)\n",
    "\n",
    "        wandb.log({\"train_loss\": train_loss, \"test_loss\": test_loss})\n",
    "\n",
    "      print(\"Finish!!\")\n",
    "\n",
    "\n",
    "    def _train_epoch(self):\n",
    "      all_train_loss = 0\n",
    "      all_test_loss = 0\n",
    "      train_cnt = 0\n",
    "      test_cnt = 0\n",
    "\n",
    "      with torch.no_grad():\n",
    "        for test_batch_idx, (x, label) in enumerate(self.loader.test):\n",
    "          label = label\n",
    "          x = x.to(DEVICE)\n",
    "          x_hat = self.model(x)\n",
    "          test_loss = self.loss(x_hat.to('cpu'), label)\n",
    "          all_test_loss += test_loss.item()\n",
    "          test_cnt += 1\n",
    "\n",
    "\n",
    "      for train_batch_idx, (x, label) in enumerate(self.loader.train):\n",
    "        label = label\n",
    "        x = x.to(DEVICE)\n",
    "        self.optimizer.zero_grad()\n",
    "        x_hat = self.model(x)\n",
    "        train_loss = self.loss(x_hat.to('cpu'), label)\n",
    "\n",
    "        train_loss.backward()\n",
    "        all_train_loss += train_loss.item()\n",
    "\n",
    "        self.optimizer.step()\n",
    "        train_cnt += 1\n",
    "      return all_train_loss/train_cnt, all_test_loss/test_cnt\n",
    "\n",
    "\n",
    "    def evaluate(self, batch):\n",
    "      self.model.eval()\n",
    "\n",
    "      with torch.no_grad():\n",
    "          x, label = batch\n",
    "          x = x.to(DEVICE)\n",
    "          label = label\n",
    "\n",
    "          x_hat = self.model(x)\n",
    "\n",
    "          return x_hat.to('cpu'), label"
   ]
  },
  {
   "cell_type": "code",
   "execution_count": null,
   "metadata": {
    "id": "QXPMjtX_Vrkh"
   },
   "outputs": [],
   "source": [
    "pipe = Pipeline(data_config['path'])"
   ]
  },
  {
   "cell_type": "markdown",
   "metadata": {
    "id": "YZ0mXBm_UKU8"
   },
   "source": [
    "## Эксперимент"
   ]
  },
  {
   "cell_type": "code",
   "execution_count": null,
   "metadata": {
    "id": "gEjyTQI7U7dL"
   },
   "outputs": [],
   "source": [
    "# Запуск 15 обучений с логированием в wandb\n",
    "wandb.login()\n",
    "\n",
    "for num_run in range(data_config['run_amnt']):\n",
    "  pipe = Pipeline(data_config['path'])\n",
    "  train_imgs, test_imgs, train_labels, test_labels = train_test_split(pipe.imgs, pipe.labels, \\\n",
    "                                                           test_size=data_config['test_size'], random_state=num_run)\n",
    "  pipe.train_dataset = CustomImageDataset(train_imgs, train_labels, transform=False)\n",
    "  pipe.test_dataset = CustomImageDataset(test_imgs, test_labels, transform=False)\n",
    "  pipe.loader = Loader(pipe.train_dataset, pipe.test_dataset, batch_size=data_config['batch_size'], train=True)\n",
    "  config = model_config\n",
    "\n",
    "  run = wandb.init(\n",
    "    project=\"Rotation_KR\",\n",
    "    config=config,\n",
    "    name = '_'.join(list(map(str, config.values()))) + '_' + str(num_run),\n",
    "  )\n",
    "  pipe.train_loop()\n",
    "  wandb.finish()"
   ]
  },
  {
   "cell_type": "code",
   "execution_count": null,
   "metadata": {
    "colab": {
     "base_uri": "https://localhost:8080/",
     "height": 1000,
     "referenced_widgets": [
      "3c558e73e6eb4ba5b30547b7c55f445a",
      "e7beb977b77f475fa97b1add4fe9be25",
      "239950919a0f4bfe81487a9cbc0bc912",
      "842cb56cbfc8493da2209881b6558982",
      "0ed9bb1cb4d3435e9cdbc30253e42cd4",
      "75ad65c98ca042d7b3d4ad36c6fb2c35",
      "5bf488faf108476bbb03995347493131",
      "5fdd44bae08246b7a4a1300a7a14f64d",
      "5c1a6ce83eb34cc5bc994bb90b1f8616",
      "b43bf94c783249be842dbbc08770d0f7",
      "55dfcb379f7d4efbbaec7a0315d5afe0",
      "a39bc0fc8fb34b78be962c0e8412b3a1",
      "cd1151225ac345d88e127cf821c412bb",
      "7dbf81707d5a43b18eb189f27e4eead3",
      "6dc432378894480e86b3252286ab3059",
      "7f5b8d4954e14c968f2adfff8914ae66",
      "e2c1cfca17a6402bbdedd1558bceb3f8",
      "54a7469a02c44c7cb2ab546e483b9799",
      "50666e759d624df3b30bcb0e6bc096e3",
      "f93a2aa668aa438cbbeb0a00070ce25c",
      "e582564470dd45c08c4652e32053bd84",
      "5c82795d9aba4b5da395a91aa1db4011",
      "cb4f471eba0242c2afc68362308fd463",
      "0b708b42780747baa4c688c1719e48c8",
      "744d63afb25d48109779a2d9feeaa569",
      "cc81013b7ad34117b5f71dd5b97e1fcd",
      "13788baab6bf4c93b597efd91bd175d1",
      "8d90836db211411a83fc09a8ff73bec6",
      "7fa12c1c20a943b2867bb4d32d2a3e93",
      "3c8efaed917c4d0eb7f2357690f3962c",
      "77c8d2605b864d45a6f7704e94d23b1b",
      "032f56e810174f13bd5b904d447b87e6",
      "ddb8849d2a4d45d5a028f4fc0f2d9b01",
      "8c3eb9bcc95c48b7ad37a32e62e9441a",
      "72afb9e1ca414e6dbbc05c6d0849878f",
      "b71c5cc187fb40958d699ca9638fd547",
      "3479f5a526c8493f84fa3cd658c7a077",
      "ec5cd0129b8747ed9ac64cf41d143e5c",
      "dcd8d9bb3de54aa185e7d54fc4dfcedf",
      "aad8b475316347cf8e2658404ab1b4ec",
      "691da4796fea42aa919d7fb322fdb3c6",
      "164dd798474c4efeb3b4a303c9960d73",
      "464e00a229124ad39eb3d81202a1f746",
      "888580333a424a57b30e44b30e071184",
      "c01590f5c6d9407a861e66f3acab42f5",
      "a1fcd27fcca54129b1ce2f345463a269",
      "159c2d297ba64e1a862d025515dea839",
      "a62c0c651e6d494786413d3b869238ce",
      "fdadc5d637aa4c9bbc981caecc097aa9",
      "76d008f3e38f4c22af28f8ebc3d5df85",
      "40c0f79660eb458c8e191f917d40954c",
      "d7a4fa6f805a4763b9a4f88a0823affd",
      "760d8b1465674dcca85f6100d4006bfb",
      "c051b46b03b44520a9dd13b35a01e7a3",
      "84b10473f7b640598ab6f198aab677c5",
      "9e0ca6d6893e45cf84f3983ac9eae2cb",
      "d3c73e00fad54fcdb5b1f48751e54591",
      "6f5ca3e1b7c64fefa16f9e16b06934ee",
      "13a557c794234327909953a53cd177e0",
      "ce9d55372677460e82ac9af42d9eaea7",
      "4a9c11fa85c547e38766a603768d12d4",
      "373960b970f2492d9a06139f93096689",
      "338c0975d43d4d29ab943b9df1e10e5c",
      "8f2a1a9de65b442a94b8fce4265008d6"
     ]
    },
    "id": "u27DTbYZoFRR",
    "outputId": "cd275695-d0f5-44f4-9d1e-6bb3f5d4026a"
   },
   "outputs": [
    {
     "data": {
      "application/javascript": [
       "\n",
       "        window._wandbApiKey = new Promise((resolve, reject) => {\n",
       "            function loadScript(url) {\n",
       "            return new Promise(function(resolve, reject) {\n",
       "                let newScript = document.createElement(\"script\");\n",
       "                newScript.onerror = reject;\n",
       "                newScript.onload = resolve;\n",
       "                document.body.appendChild(newScript);\n",
       "                newScript.src = url;\n",
       "            });\n",
       "            }\n",
       "            loadScript(\"https://cdn.jsdelivr.net/npm/postmate/build/postmate.min.js\").then(() => {\n",
       "            const iframe = document.createElement('iframe')\n",
       "            iframe.style.cssText = \"width:0;height:0;border:none\"\n",
       "            document.body.appendChild(iframe)\n",
       "            const handshake = new Postmate({\n",
       "                container: iframe,\n",
       "                url: 'https://wandb.ai/authorize'\n",
       "            });\n",
       "            const timeout = setTimeout(() => reject(\"Couldn't auto authenticate\"), 5000)\n",
       "            handshake.then(function(child) {\n",
       "                child.on('authorize', data => {\n",
       "                    clearTimeout(timeout)\n",
       "                    resolve(data)\n",
       "                });\n",
       "            });\n",
       "            })\n",
       "        });\n",
       "    "
      ],
      "text/plain": [
       "<IPython.core.display.Javascript object>"
      ]
     },
     "metadata": {},
     "output_type": "display_data"
    },
    {
     "name": "stderr",
     "output_type": "stream",
     "text": [
      "\u001b[34m\u001b[1mwandb\u001b[0m: Logging into wandb.ai. (Learn how to deploy a W&B server locally: https://wandb.me/wandb-server)\n",
      "\u001b[34m\u001b[1mwandb\u001b[0m: You can find your API key in your browser here: https://wandb.ai/authorize\n",
      "wandb: Paste an API key from your profile and hit enter, or press ctrl+c to quit:"
     ]
    },
    {
     "name": "stdout",
     "output_type": "stream",
     "text": [
      " ··········\n"
     ]
    },
    {
     "name": "stderr",
     "output_type": "stream",
     "text": [
      "\u001b[34m\u001b[1mwandb\u001b[0m: Appending key for api.wandb.ai to your netrc file: /root/.netrc\n",
      "\u001b[34m\u001b[1mwandb\u001b[0m: Currently logged in as: \u001b[33mtihstepml\u001b[0m. Use \u001b[1m`wandb login --relogin`\u001b[0m to force relogin\n"
     ]
    },
    {
     "data": {
      "text/html": [
       "Tracking run with wandb version 0.17.0"
      ],
      "text/plain": [
       "<IPython.core.display.HTML object>"
      ]
     },
     "metadata": {},
     "output_type": "display_data"
    },
    {
     "data": {
      "text/html": [
       "Run data is saved locally in <code>/content/drive/MyDrive/AIRI FEM/wandb/run-20240513_162919-clli3jux</code>"
      ],
      "text/plain": [
       "<IPython.core.display.HTML object>"
      ]
     },
     "metadata": {},
     "output_type": "display_data"
    },
    {
     "data": {
      "text/html": [
       "Syncing run <strong><a href='https://wandb.ai/tihstepml/Rotation_KR/runs/clli3jux' target=\"_blank\">E2CNN_Rotation_None_None_None_None_False_0</a></strong> to <a href='https://wandb.ai/tihstepml/Rotation_KR' target=\"_blank\">Weights & Biases</a> (<a href='https://wandb.me/run' target=\"_blank\">docs</a>)<br/>"
      ],
      "text/plain": [
       "<IPython.core.display.HTML object>"
      ]
     },
     "metadata": {},
     "output_type": "display_data"
    },
    {
     "data": {
      "text/html": [
       " View project at <a href='https://wandb.ai/tihstepml/Rotation_KR' target=\"_blank\">https://wandb.ai/tihstepml/Rotation_KR</a>"
      ],
      "text/plain": [
       "<IPython.core.display.HTML object>"
      ]
     },
     "metadata": {},
     "output_type": "display_data"
    },
    {
     "data": {
      "text/html": [
       " View run at <a href='https://wandb.ai/tihstepml/Rotation_KR/runs/clli3jux' target=\"_blank\">https://wandb.ai/tihstepml/Rotation_KR/runs/clli3jux</a>"
      ],
      "text/plain": [
       "<IPython.core.display.HTML object>"
      ]
     },
     "metadata": {},
     "output_type": "display_data"
    },
    {
     "name": "stdout",
     "output_type": "stream",
     "text": [
      "Start training VAE...\n",
      "\tEpoch 1 complete! \tAverage train Loss:  266.51712397246035 \tAverage test Loss:  0.4994657678263528\n",
      "\tEpoch 2 complete! \tAverage train Loss:  0.6419114926987786 \tAverage test Loss:  0.3607155276196344\n",
      "\tEpoch 3 complete! \tAverage train Loss:  0.037224697643669986 \tAverage test Loss:  0.058029004505702426\n",
      "\tEpoch 4 complete! \tAverage train Loss:  0.024897485655748237 \tAverage test Loss:  0.02897084996636425\n",
      "\tEpoch 5 complete! \tAverage train Loss:  0.019915867344302646 \tAverage test Loss:  0.022492063763950552\n",
      "\tEpoch 6 complete! \tAverage train Loss:  0.016778273208035252 \tAverage test Loss:  0.018563571652131423\n",
      "\tEpoch 7 complete! \tAverage train Loss:  0.014791085526852285 \tAverage test Loss:  0.016100630895899876\n",
      "\tEpoch 8 complete! \tAverage train Loss:  0.01338495629823814 \tAverage test Loss:  0.014518929844988244\n",
      "\tEpoch 9 complete! \tAverage train Loss:  0.012361011246882252 \tAverage test Loss:  0.013855497951486282\n",
      "\tEpoch 10 complete! \tAverage train Loss:  0.011469904222857144 \tAverage test Loss:  0.012417605545903956\n",
      "\tEpoch 11 complete! \tAverage train Loss:  0.010799620411027286 \tAverage test Loss:  0.01175791643826025\n",
      "\tEpoch 12 complete! \tAverage train Loss:  0.01022441202174809 \tAverage test Loss:  0.011357601598969527\n",
      "\tEpoch 13 complete! \tAverage train Loss:  0.009851509863037174 \tAverage test Loss:  0.010483060032129288\n",
      "\tEpoch 14 complete! \tAverage train Loss:  0.00946185321910149 \tAverage test Loss:  0.01005529226469142\n",
      "\tEpoch 15 complete! \tAverage train Loss:  0.00919091729131543 \tAverage test Loss:  0.011991421825119428\n",
      "\tEpoch 16 complete! \tAverage train Loss:  0.008587128198626687 \tAverage test Loss:  0.009366362688264676\n",
      "\tEpoch 17 complete! \tAverage train Loss:  0.00823734896415371 \tAverage test Loss:  0.0088868816383183\n",
      "\tEpoch 18 complete! \tAverage train Loss:  0.00819845535492493 \tAverage test Loss:  0.008882865076884627\n",
      "\tEpoch 19 complete! \tAverage train Loss:  0.00787480266259636 \tAverage test Loss:  0.00828101678884455\n",
      "\tEpoch 20 complete! \tAverage train Loss:  0.007760364388636613 \tAverage test Loss:  0.00807972515134939\n",
      "Finish!!\n"
     ]
    },
    {
     "data": {
      "application/vnd.jupyter.widget-view+json": {
       "model_id": "3c558e73e6eb4ba5b30547b7c55f445a",
       "version_major": 2,
       "version_minor": 0
      },
      "text/plain": [
       "VBox(children=(Label(value='0.001 MB of 0.001 MB uploaded\\r'), FloatProgress(value=1.0, max=1.0)))"
      ]
     },
     "metadata": {},
     "output_type": "display_data"
    },
    {
     "data": {
      "text/html": [
       "<style>\n",
       "    table.wandb td:nth-child(1) { padding: 0 10px; text-align: left ; width: auto;} td:nth-child(2) {text-align: left ; width: 100%}\n",
       "    .wandb-row { display: flex; flex-direction: row; flex-wrap: wrap; justify-content: flex-start; width: 100% }\n",
       "    .wandb-col { display: flex; flex-direction: column; flex-basis: 100%; flex: 1; padding: 10px; }\n",
       "    </style>\n",
       "<div class=\"wandb-row\"><div class=\"wandb-col\"><h3>Run history:</h3><br/><table class=\"wandb\"><tr><td>test_loss</td><td>█▆▂▁▁▁▁▁▁▁▁▁▁▁▁▁▁▁▁▁</td></tr><tr><td>train_loss</td><td>█▁▁▁▁▁▁▁▁▁▁▁▁▁▁▁▁▁▁▁</td></tr></table><br/></div><div class=\"wandb-col\"><h3>Run summary:</h3><br/><table class=\"wandb\"><tr><td>test_loss</td><td>0.00808</td></tr><tr><td>train_loss</td><td>0.00776</td></tr></table><br/></div></div>"
      ],
      "text/plain": [
       "<IPython.core.display.HTML object>"
      ]
     },
     "metadata": {},
     "output_type": "display_data"
    },
    {
     "data": {
      "text/html": [
       " View run <strong style=\"color:#cdcd00\">E2CNN_Rotation_None_None_None_None_False_0</strong> at: <a href='https://wandb.ai/tihstepml/Rotation_KR/runs/clli3jux' target=\"_blank\">https://wandb.ai/tihstepml/Rotation_KR/runs/clli3jux</a><br/> View project at: <a href='https://wandb.ai/tihstepml/Rotation_KR' target=\"_blank\">https://wandb.ai/tihstepml/Rotation_KR</a><br/>Synced 5 W&B file(s), 0 media file(s), 0 artifact file(s) and 0 other file(s)"
      ],
      "text/plain": [
       "<IPython.core.display.HTML object>"
      ]
     },
     "metadata": {},
     "output_type": "display_data"
    },
    {
     "data": {
      "text/html": [
       "Find logs at: <code>./wandb/run-20240513_162919-clli3jux/logs</code>"
      ],
      "text/plain": [
       "<IPython.core.display.HTML object>"
      ]
     },
     "metadata": {},
     "output_type": "display_data"
    },
    {
     "data": {
      "text/html": [
       "Tracking run with wandb version 0.17.0"
      ],
      "text/plain": [
       "<IPython.core.display.HTML object>"
      ]
     },
     "metadata": {},
     "output_type": "display_data"
    },
    {
     "data": {
      "text/html": [
       "Run data is saved locally in <code>/content/drive/MyDrive/AIRI FEM/wandb/run-20240513_162942-zo7r7lx4</code>"
      ],
      "text/plain": [
       "<IPython.core.display.HTML object>"
      ]
     },
     "metadata": {},
     "output_type": "display_data"
    },
    {
     "data": {
      "text/html": [
       "Syncing run <strong><a href='https://wandb.ai/tihstepml/Rotation_KR/runs/zo7r7lx4' target=\"_blank\">E2CNN_Rotation_None_None_None_None_False_1</a></strong> to <a href='https://wandb.ai/tihstepml/Rotation_KR' target=\"_blank\">Weights & Biases</a> (<a href='https://wandb.me/run' target=\"_blank\">docs</a>)<br/>"
      ],
      "text/plain": [
       "<IPython.core.display.HTML object>"
      ]
     },
     "metadata": {},
     "output_type": "display_data"
    },
    {
     "data": {
      "text/html": [
       " View project at <a href='https://wandb.ai/tihstepml/Rotation_KR' target=\"_blank\">https://wandb.ai/tihstepml/Rotation_KR</a>"
      ],
      "text/plain": [
       "<IPython.core.display.HTML object>"
      ]
     },
     "metadata": {},
     "output_type": "display_data"
    },
    {
     "data": {
      "text/html": [
       " View run at <a href='https://wandb.ai/tihstepml/Rotation_KR/runs/zo7r7lx4' target=\"_blank\">https://wandb.ai/tihstepml/Rotation_KR/runs/zo7r7lx4</a>"
      ],
      "text/plain": [
       "<IPython.core.display.HTML object>"
      ]
     },
     "metadata": {},
     "output_type": "display_data"
    },
    {
     "name": "stdout",
     "output_type": "stream",
     "text": [
      "Start training VAE...\n",
      "\tEpoch 1 complete! \tAverage train Loss:  122.12791257364265 \tAverage test Loss:  0.5354911046368735\n",
      "\tEpoch 2 complete! \tAverage train Loss:  0.24779552805347968 \tAverage test Loss:  0.35639590450695585\n",
      "\tEpoch 3 complete! \tAverage train Loss:  0.02410081660343429 \tAverage test Loss:  0.032089294865727425\n",
      "\tEpoch 4 complete! \tAverage train Loss:  0.018058336560882755 \tAverage test Loss:  0.020500499622098038\n",
      "\tEpoch 5 complete! \tAverage train Loss:  0.015127079498212216 \tAverage test Loss:  0.01669199950993061\n",
      "\tEpoch 6 complete! \tAverage train Loss:  0.013183469773601677 \tAverage test Loss:  0.014221893823040383\n",
      "\tEpoch 7 complete! \tAverage train Loss:  0.01186406067809311 \tAverage test Loss:  0.012811931182763405\n",
      "\tEpoch 8 complete! \tAverage train Loss:  0.010893105987017438 \tAverage test Loss:  0.011641060334763356\n",
      "\tEpoch 9 complete! \tAverage train Loss:  0.010178524164198819 \tAverage test Loss:  0.010645318909415178\n",
      "\tEpoch 10 complete! \tAverage train Loss:  0.009431511858257196 \tAverage test Loss:  0.010154085100761481\n",
      "\tEpoch 11 complete! \tAverage train Loss:  0.009068044036689956 \tAverage test Loss:  0.009434084740600415\n",
      "\tEpoch 12 complete! \tAverage train Loss:  0.00856289169672182 \tAverage test Loss:  0.008917084961597408\n",
      "\tEpoch 13 complete! \tAverage train Loss:  0.008431877759364197 \tAverage test Loss:  0.008776121972394841\n",
      "\tEpoch 14 complete! \tAverage train Loss:  0.007991270525223118 \tAverage test Loss:  0.008275659322472555\n",
      "\tEpoch 15 complete! \tAverage train Loss:  0.008014597914229005 \tAverage test Loss:  0.007898016200800027\n",
      "\tEpoch 16 complete! \tAverage train Loss:  0.007568281735846047 \tAverage test Loss:  0.008514332751344358\n",
      "\tEpoch 17 complete! \tAverage train Loss:  0.007115779578748901 \tAverage test Loss:  0.007824000569858722\n",
      "\tEpoch 18 complete! \tAverage train Loss:  0.006903212746384286 \tAverage test Loss:  0.007160452127988849\n",
      "\tEpoch 19 complete! \tAverage train Loss:  0.006628793553780701 \tAverage test Loss:  0.007050702847274286\n",
      "\tEpoch 20 complete! \tAverage train Loss:  0.006464060569592452 \tAverage test Loss:  0.006904330004804901\n",
      "Finish!!\n"
     ]
    },
    {
     "data": {
      "application/vnd.jupyter.widget-view+json": {
       "model_id": "5c1a6ce83eb34cc5bc994bb90b1f8616",
       "version_major": 2,
       "version_minor": 0
      },
      "text/plain": [
       "VBox(children=(Label(value='0.001 MB of 0.013 MB uploaded\\r'), FloatProgress(value=0.08797463794221486, max=1.…"
      ]
     },
     "metadata": {},
     "output_type": "display_data"
    },
    {
     "data": {
      "text/html": [
       "<style>\n",
       "    table.wandb td:nth-child(1) { padding: 0 10px; text-align: left ; width: auto;} td:nth-child(2) {text-align: left ; width: 100%}\n",
       "    .wandb-row { display: flex; flex-direction: row; flex-wrap: wrap; justify-content: flex-start; width: 100% }\n",
       "    .wandb-col { display: flex; flex-direction: column; flex-basis: 100%; flex: 1; padding: 10px; }\n",
       "    </style>\n",
       "<div class=\"wandb-row\"><div class=\"wandb-col\"><h3>Run history:</h3><br/><table class=\"wandb\"><tr><td>test_loss</td><td>█▆▁▁▁▁▁▁▁▁▁▁▁▁▁▁▁▁▁▁</td></tr><tr><td>train_loss</td><td>█▁▁▁▁▁▁▁▁▁▁▁▁▁▁▁▁▁▁▁</td></tr></table><br/></div><div class=\"wandb-col\"><h3>Run summary:</h3><br/><table class=\"wandb\"><tr><td>test_loss</td><td>0.0069</td></tr><tr><td>train_loss</td><td>0.00646</td></tr></table><br/></div></div>"
      ],
      "text/plain": [
       "<IPython.core.display.HTML object>"
      ]
     },
     "metadata": {},
     "output_type": "display_data"
    },
    {
     "data": {
      "text/html": [
       " View run <strong style=\"color:#cdcd00\">E2CNN_Rotation_None_None_None_None_False_1</strong> at: <a href='https://wandb.ai/tihstepml/Rotation_KR/runs/zo7r7lx4' target=\"_blank\">https://wandb.ai/tihstepml/Rotation_KR/runs/zo7r7lx4</a><br/> View project at: <a href='https://wandb.ai/tihstepml/Rotation_KR' target=\"_blank\">https://wandb.ai/tihstepml/Rotation_KR</a><br/>Synced 5 W&B file(s), 0 media file(s), 0 artifact file(s) and 0 other file(s)"
      ],
      "text/plain": [
       "<IPython.core.display.HTML object>"
      ]
     },
     "metadata": {},
     "output_type": "display_data"
    },
    {
     "data": {
      "text/html": [
       "Find logs at: <code>./wandb/run-20240513_162942-zo7r7lx4/logs</code>"
      ],
      "text/plain": [
       "<IPython.core.display.HTML object>"
      ]
     },
     "metadata": {},
     "output_type": "display_data"
    },
    {
     "data": {
      "text/html": [
       "Tracking run with wandb version 0.17.0"
      ],
      "text/plain": [
       "<IPython.core.display.HTML object>"
      ]
     },
     "metadata": {},
     "output_type": "display_data"
    },
    {
     "data": {
      "text/html": [
       "Run data is saved locally in <code>/content/drive/MyDrive/AIRI FEM/wandb/run-20240513_163002-vfdjze9j</code>"
      ],
      "text/plain": [
       "<IPython.core.display.HTML object>"
      ]
     },
     "metadata": {},
     "output_type": "display_data"
    },
    {
     "data": {
      "text/html": [
       "Syncing run <strong><a href='https://wandb.ai/tihstepml/Rotation_KR/runs/vfdjze9j' target=\"_blank\">E2CNN_Rotation_None_None_None_None_False_2</a></strong> to <a href='https://wandb.ai/tihstepml/Rotation_KR' target=\"_blank\">Weights & Biases</a> (<a href='https://wandb.me/run' target=\"_blank\">docs</a>)<br/>"
      ],
      "text/plain": [
       "<IPython.core.display.HTML object>"
      ]
     },
     "metadata": {},
     "output_type": "display_data"
    },
    {
     "data": {
      "text/html": [
       " View project at <a href='https://wandb.ai/tihstepml/Rotation_KR' target=\"_blank\">https://wandb.ai/tihstepml/Rotation_KR</a>"
      ],
      "text/plain": [
       "<IPython.core.display.HTML object>"
      ]
     },
     "metadata": {},
     "output_type": "display_data"
    },
    {
     "data": {
      "text/html": [
       " View run at <a href='https://wandb.ai/tihstepml/Rotation_KR/runs/vfdjze9j' target=\"_blank\">https://wandb.ai/tihstepml/Rotation_KR/runs/vfdjze9j</a>"
      ],
      "text/plain": [
       "<IPython.core.display.HTML object>"
      ]
     },
     "metadata": {},
     "output_type": "display_data"
    },
    {
     "name": "stdout",
     "output_type": "stream",
     "text": [
      "Start training VAE...\n",
      "\tEpoch 1 complete! \tAverage train Loss:  219.1578673493054 \tAverage test Loss:  0.4610941686800548\n",
      "\tEpoch 2 complete! \tAverage train Loss:  0.4928247508103565 \tAverage test Loss:  3.535730855805533\n",
      "\tEpoch 3 complete! \tAverage train Loss:  0.039228264684394255 \tAverage test Loss:  0.055989359106336324\n",
      "\tEpoch 4 complete! \tAverage train Loss:  0.025789232924580574 \tAverage test Loss:  0.027506073005497456\n",
      "\tEpoch 5 complete! \tAverage train Loss:  0.020309975970599612 \tAverage test Loss:  0.020984914020768235\n",
      "\tEpoch 6 complete! \tAverage train Loss:  0.017010462928121372 \tAverage test Loss:  0.017316555604338646\n",
      "\tEpoch 7 complete! \tAverage train Loss:  0.014926885412532395 \tAverage test Loss:  0.015643096129809107\n",
      "\tEpoch 8 complete! \tAverage train Loss:  0.013589043785833706 \tAverage test Loss:  0.015435271364237581\n",
      "\tEpoch 9 complete! \tAverage train Loss:  0.012432854433180922 \tAverage test Loss:  0.013022336975804396\n",
      "\tEpoch 10 complete! \tAverage train Loss:  0.011611000492663706 \tAverage test Loss:  0.012237148825079203\n",
      "\tEpoch 11 complete! \tAverage train Loss:  0.010802639869310088 \tAverage test Loss:  0.011867986127202\n",
      "\tEpoch 12 complete! \tAverage train Loss:  0.010264765786922585 \tAverage test Loss:  0.01192314038053155\n",
      "\tEpoch 13 complete! \tAverage train Loss:  0.009684297303527089 \tAverage test Loss:  0.010425105624433075\n",
      "\tEpoch 14 complete! \tAverage train Loss:  0.009306592440579907 \tAverage test Loss:  0.010289961605199746\n",
      "\tEpoch 15 complete! \tAverage train Loss:  0.008954405508367187 \tAverage test Loss:  0.009931725383337055\n",
      "\tEpoch 16 complete! \tAverage train Loss:  0.008646123900504435 \tAverage test Loss:  0.009984968030559165\n",
      "\tEpoch 17 complete! \tAverage train Loss:  0.008305308953622135 \tAverage test Loss:  0.009294778042073761\n",
      "\tEpoch 18 complete! \tAverage train Loss:  0.008178171749084683 \tAverage test Loss:  0.009493756440601178\n",
      "\tEpoch 19 complete! \tAverage train Loss:  0.008083336552510322 \tAverage test Loss:  0.0090666379380439\n",
      "\tEpoch 20 complete! \tAverage train Loss:  0.007913125015921512 \tAverage test Loss:  0.010122447474194425\n",
      "Finish!!\n"
     ]
    },
    {
     "data": {
      "application/vnd.jupyter.widget-view+json": {
       "model_id": "e2c1cfca17a6402bbdedd1558bceb3f8",
       "version_major": 2,
       "version_minor": 0
      },
      "text/plain": [
       "VBox(children=(Label(value='0.001 MB of 0.001 MB uploaded\\r'), FloatProgress(value=1.0, max=1.0)))"
      ]
     },
     "metadata": {},
     "output_type": "display_data"
    },
    {
     "data": {
      "text/html": [
       "<style>\n",
       "    table.wandb td:nth-child(1) { padding: 0 10px; text-align: left ; width: auto;} td:nth-child(2) {text-align: left ; width: 100%}\n",
       "    .wandb-row { display: flex; flex-direction: row; flex-wrap: wrap; justify-content: flex-start; width: 100% }\n",
       "    .wandb-col { display: flex; flex-direction: column; flex-basis: 100%; flex: 1; padding: 10px; }\n",
       "    </style>\n",
       "<div class=\"wandb-row\"><div class=\"wandb-col\"><h3>Run history:</h3><br/><table class=\"wandb\"><tr><td>test_loss</td><td>▂█▁▁▁▁▁▁▁▁▁▁▁▁▁▁▁▁▁▁</td></tr><tr><td>train_loss</td><td>█▁▁▁▁▁▁▁▁▁▁▁▁▁▁▁▁▁▁▁</td></tr></table><br/></div><div class=\"wandb-col\"><h3>Run summary:</h3><br/><table class=\"wandb\"><tr><td>test_loss</td><td>0.01012</td></tr><tr><td>train_loss</td><td>0.00791</td></tr></table><br/></div></div>"
      ],
      "text/plain": [
       "<IPython.core.display.HTML object>"
      ]
     },
     "metadata": {},
     "output_type": "display_data"
    },
    {
     "data": {
      "text/html": [
       " View run <strong style=\"color:#cdcd00\">E2CNN_Rotation_None_None_None_None_False_2</strong> at: <a href='https://wandb.ai/tihstepml/Rotation_KR/runs/vfdjze9j' target=\"_blank\">https://wandb.ai/tihstepml/Rotation_KR/runs/vfdjze9j</a><br/> View project at: <a href='https://wandb.ai/tihstepml/Rotation_KR' target=\"_blank\">https://wandb.ai/tihstepml/Rotation_KR</a><br/>Synced 5 W&B file(s), 0 media file(s), 0 artifact file(s) and 0 other file(s)"
      ],
      "text/plain": [
       "<IPython.core.display.HTML object>"
      ]
     },
     "metadata": {},
     "output_type": "display_data"
    },
    {
     "data": {
      "text/html": [
       "Find logs at: <code>./wandb/run-20240513_163002-vfdjze9j/logs</code>"
      ],
      "text/plain": [
       "<IPython.core.display.HTML object>"
      ]
     },
     "metadata": {},
     "output_type": "display_data"
    },
    {
     "data": {
      "text/html": [
       "Tracking run with wandb version 0.17.0"
      ],
      "text/plain": [
       "<IPython.core.display.HTML object>"
      ]
     },
     "metadata": {},
     "output_type": "display_data"
    },
    {
     "data": {
      "text/html": [
       "Run data is saved locally in <code>/content/drive/MyDrive/AIRI FEM/wandb/run-20240513_163026-8b04ktw0</code>"
      ],
      "text/plain": [
       "<IPython.core.display.HTML object>"
      ]
     },
     "metadata": {},
     "output_type": "display_data"
    },
    {
     "data": {
      "text/html": [
       "Syncing run <strong><a href='https://wandb.ai/tihstepml/Rotation_KR/runs/8b04ktw0' target=\"_blank\">E2CNN_Rotation_None_None_None_None_False_3</a></strong> to <a href='https://wandb.ai/tihstepml/Rotation_KR' target=\"_blank\">Weights & Biases</a> (<a href='https://wandb.me/run' target=\"_blank\">docs</a>)<br/>"
      ],
      "text/plain": [
       "<IPython.core.display.HTML object>"
      ]
     },
     "metadata": {},
     "output_type": "display_data"
    },
    {
     "data": {
      "text/html": [
       " View project at <a href='https://wandb.ai/tihstepml/Rotation_KR' target=\"_blank\">https://wandb.ai/tihstepml/Rotation_KR</a>"
      ],
      "text/plain": [
       "<IPython.core.display.HTML object>"
      ]
     },
     "metadata": {},
     "output_type": "display_data"
    },
    {
     "data": {
      "text/html": [
       " View run at <a href='https://wandb.ai/tihstepml/Rotation_KR/runs/8b04ktw0' target=\"_blank\">https://wandb.ai/tihstepml/Rotation_KR/runs/8b04ktw0</a>"
      ],
      "text/plain": [
       "<IPython.core.display.HTML object>"
      ]
     },
     "metadata": {},
     "output_type": "display_data"
    },
    {
     "name": "stdout",
     "output_type": "stream",
     "text": [
      "Start training VAE...\n",
      "\tEpoch 1 complete! \tAverage train Loss:  511.042612162687 \tAverage test Loss:  1.021495018686567\n",
      "\tEpoch 2 complete! \tAverage train Loss:  1.6398794426251266 \tAverage test Loss:  14.134517124720983\n",
      "\tEpoch 3 complete! \tAverage train Loss:  0.09025083646430808 \tAverage test Loss:  0.13927625438996724\n",
      "\tEpoch 4 complete! \tAverage train Loss:  0.0549302264669184 \tAverage test Loss:  0.06637069662766797\n",
      "\tEpoch 5 complete! \tAverage train Loss:  0.04068405471615872 \tAverage test Loss:  0.04716826283505985\n",
      "\tEpoch 6 complete! \tAverage train Loss:  0.03267555958512476 \tAverage test Loss:  0.03807806143803256\n",
      "\tEpoch 7 complete! \tAverage train Loss:  0.027479055890087353 \tAverage test Loss:  0.030670048402888433\n",
      "\tEpoch 8 complete! \tAverage train Loss:  0.02399711134070057 \tAverage test Loss:  0.026132271625101566\n",
      "\tEpoch 9 complete! \tAverage train Loss:  0.02143649217057026 \tAverage test Loss:  0.023374540332172598\n",
      "\tEpoch 10 complete! \tAverage train Loss:  0.019783184689990546 \tAverage test Loss:  0.021141332973326956\n",
      "\tEpoch 11 complete! \tAverage train Loss:  0.017994066226785465 \tAverage test Loss:  0.01971676174019064\n",
      "\tEpoch 12 complete! \tAverage train Loss:  0.0166452986077737 \tAverage test Loss:  0.01791936598185982\n",
      "\tEpoch 13 complete! \tAverage train Loss:  0.01549165689591634 \tAverage test Loss:  0.017149523964950016\n",
      "\tEpoch 14 complete! \tAverage train Loss:  0.014798798172150627 \tAverage test Loss:  0.01586057897657156\n",
      "\tEpoch 15 complete! \tAverage train Loss:  0.013581490759753574 \tAverage test Loss:  0.014662732503243856\n",
      "\tEpoch 16 complete! \tAverage train Loss:  0.01343998912785013 \tAverage test Loss:  0.014060769296650375\n",
      "\tEpoch 17 complete! \tAverage train Loss:  0.012789775049156052 \tAverage test Loss:  0.01299756093482886\n",
      "\tEpoch 18 complete! \tAverage train Loss:  0.011753042954635822 \tAverage test Loss:  0.012775779901338475\n",
      "\tEpoch 19 complete! \tAverage train Loss:  0.011354847100831695 \tAverage test Loss:  0.011935850804937738\n",
      "\tEpoch 20 complete! \tAverage train Loss:  0.010958805301431881 \tAverage test Loss:  0.01233849860727787\n",
      "Finish!!\n"
     ]
    },
    {
     "data": {
      "application/vnd.jupyter.widget-view+json": {
       "model_id": "744d63afb25d48109779a2d9feeaa569",
       "version_major": 2,
       "version_minor": 0
      },
      "text/plain": [
       "VBox(children=(Label(value='0.001 MB of 0.001 MB uploaded\\r'), FloatProgress(value=1.0, max=1.0)))"
      ]
     },
     "metadata": {},
     "output_type": "display_data"
    },
    {
     "data": {
      "text/html": [
       "<style>\n",
       "    table.wandb td:nth-child(1) { padding: 0 10px; text-align: left ; width: auto;} td:nth-child(2) {text-align: left ; width: 100%}\n",
       "    .wandb-row { display: flex; flex-direction: row; flex-wrap: wrap; justify-content: flex-start; width: 100% }\n",
       "    .wandb-col { display: flex; flex-direction: column; flex-basis: 100%; flex: 1; padding: 10px; }\n",
       "    </style>\n",
       "<div class=\"wandb-row\"><div class=\"wandb-col\"><h3>Run history:</h3><br/><table class=\"wandb\"><tr><td>test_loss</td><td>▂█▁▁▁▁▁▁▁▁▁▁▁▁▁▁▁▁▁▁</td></tr><tr><td>train_loss</td><td>█▁▁▁▁▁▁▁▁▁▁▁▁▁▁▁▁▁▁▁</td></tr></table><br/></div><div class=\"wandb-col\"><h3>Run summary:</h3><br/><table class=\"wandb\"><tr><td>test_loss</td><td>0.01234</td></tr><tr><td>train_loss</td><td>0.01096</td></tr></table><br/></div></div>"
      ],
      "text/plain": [
       "<IPython.core.display.HTML object>"
      ]
     },
     "metadata": {},
     "output_type": "display_data"
    },
    {
     "data": {
      "text/html": [
       " View run <strong style=\"color:#cdcd00\">E2CNN_Rotation_None_None_None_None_False_3</strong> at: <a href='https://wandb.ai/tihstepml/Rotation_KR/runs/8b04ktw0' target=\"_blank\">https://wandb.ai/tihstepml/Rotation_KR/runs/8b04ktw0</a><br/> View project at: <a href='https://wandb.ai/tihstepml/Rotation_KR' target=\"_blank\">https://wandb.ai/tihstepml/Rotation_KR</a><br/>Synced 5 W&B file(s), 0 media file(s), 0 artifact file(s) and 0 other file(s)"
      ],
      "text/plain": [
       "<IPython.core.display.HTML object>"
      ]
     },
     "metadata": {},
     "output_type": "display_data"
    },
    {
     "data": {
      "text/html": [
       "Find logs at: <code>./wandb/run-20240513_163026-8b04ktw0/logs</code>"
      ],
      "text/plain": [
       "<IPython.core.display.HTML object>"
      ]
     },
     "metadata": {},
     "output_type": "display_data"
    },
    {
     "data": {
      "text/html": [
       "Tracking run with wandb version 0.17.0"
      ],
      "text/plain": [
       "<IPython.core.display.HTML object>"
      ]
     },
     "metadata": {},
     "output_type": "display_data"
    },
    {
     "data": {
      "text/html": [
       "Run data is saved locally in <code>/content/drive/MyDrive/AIRI FEM/wandb/run-20240513_163047-8fum935q</code>"
      ],
      "text/plain": [
       "<IPython.core.display.HTML object>"
      ]
     },
     "metadata": {},
     "output_type": "display_data"
    },
    {
     "data": {
      "text/html": [
       "Syncing run <strong><a href='https://wandb.ai/tihstepml/Rotation_KR/runs/8fum935q' target=\"_blank\">E2CNN_Rotation_None_None_None_None_False_4</a></strong> to <a href='https://wandb.ai/tihstepml/Rotation_KR' target=\"_blank\">Weights & Biases</a> (<a href='https://wandb.me/run' target=\"_blank\">docs</a>)<br/>"
      ],
      "text/plain": [
       "<IPython.core.display.HTML object>"
      ]
     },
     "metadata": {},
     "output_type": "display_data"
    },
    {
     "data": {
      "text/html": [
       " View project at <a href='https://wandb.ai/tihstepml/Rotation_KR' target=\"_blank\">https://wandb.ai/tihstepml/Rotation_KR</a>"
      ],
      "text/plain": [
       "<IPython.core.display.HTML object>"
      ]
     },
     "metadata": {},
     "output_type": "display_data"
    },
    {
     "data": {
      "text/html": [
       " View run at <a href='https://wandb.ai/tihstepml/Rotation_KR/runs/8fum935q' target=\"_blank\">https://wandb.ai/tihstepml/Rotation_KR/runs/8fum935q</a>"
      ],
      "text/plain": [
       "<IPython.core.display.HTML object>"
      ]
     },
     "metadata": {},
     "output_type": "display_data"
    },
    {
     "name": "stdout",
     "output_type": "stream",
     "text": [
      "Start training VAE...\n",
      "\tEpoch 1 complete! \tAverage train Loss:  551.3120314822359 \tAverage test Loss:  0.5311854779720306\n",
      "\tEpoch 2 complete! \tAverage train Loss:  1.0805846265817092 \tAverage test Loss:  1.4737523198127747\n",
      "\tEpoch 3 complete! \tAverage train Loss:  0.07749928079419217 \tAverage test Loss:  0.11725020036101341\n",
      "\tEpoch 4 complete! \tAverage train Loss:  0.04699551484594911 \tAverage test Loss:  0.05553530396095344\n",
      "\tEpoch 5 complete! \tAverage train Loss:  0.035080208900873946 \tAverage test Loss:  0.038686465205890794\n",
      "\tEpoch 6 complete! \tAverage train Loss:  0.02852882179668394 \tAverage test Loss:  0.0305027397615569\n",
      "\tEpoch 7 complete! \tAverage train Loss:  0.024803391862976348 \tAverage test Loss:  0.026663534476288726\n",
      "\tEpoch 8 complete! \tAverage train Loss:  0.021677989670533245 \tAverage test Loss:  0.022719886420028552\n",
      "\tEpoch 9 complete! \tAverage train Loss:  0.019596173222792352 \tAverage test Loss:  0.020767602670405592\n",
      "\tEpoch 10 complete! \tAverage train Loss:  0.01803603279009714 \tAverage test Loss:  0.02008165099791118\n",
      "\tEpoch 11 complete! \tAverage train Loss:  0.016192296519875526 \tAverage test Loss:  0.016830530616321733\n",
      "\tEpoch 12 complete! \tAverage train Loss:  0.015237079333450835 \tAverage test Loss:  0.01620819965111358\n",
      "\tEpoch 13 complete! \tAverage train Loss:  0.014388296121762971 \tAverage test Loss:  0.015861981282276765\n",
      "\tEpoch 14 complete! \tAverage train Loss:  0.013487727270793106 \tAverage test Loss:  0.014001554742987667\n",
      "\tEpoch 15 complete! \tAverage train Loss:  0.013094917855272859 \tAverage test Loss:  0.013214730990252324\n",
      "\tEpoch 16 complete! \tAverage train Loss:  0.012685695915656575 \tAverage test Loss:  0.012887347622641496\n",
      "\tEpoch 17 complete! \tAverage train Loss:  0.011878105669708575 \tAverage test Loss:  0.013028297440281935\n",
      "\tEpoch 18 complete! \tAverage train Loss:  0.011543041331914522 \tAverage test Loss:  0.012042529282293149\n",
      "\tEpoch 19 complete! \tAverage train Loss:  0.01104852509826927 \tAverage test Loss:  0.012108637751745326\n",
      "\tEpoch 20 complete! \tAverage train Loss:  0.010798032316616026 \tAverage test Loss:  0.011316238436847925\n",
      "Finish!!\n"
     ]
    },
    {
     "data": {
      "application/vnd.jupyter.widget-view+json": {
       "model_id": "ddb8849d2a4d45d5a028f4fc0f2d9b01",
       "version_major": 2,
       "version_minor": 0
      },
      "text/plain": [
       "VBox(children=(Label(value='0.001 MB of 0.013 MB uploaded\\r'), FloatProgress(value=0.08816956239636652, max=1.…"
      ]
     },
     "metadata": {},
     "output_type": "display_data"
    },
    {
     "data": {
      "text/html": [
       "<style>\n",
       "    table.wandb td:nth-child(1) { padding: 0 10px; text-align: left ; width: auto;} td:nth-child(2) {text-align: left ; width: 100%}\n",
       "    .wandb-row { display: flex; flex-direction: row; flex-wrap: wrap; justify-content: flex-start; width: 100% }\n",
       "    .wandb-col { display: flex; flex-direction: column; flex-basis: 100%; flex: 1; padding: 10px; }\n",
       "    </style>\n",
       "<div class=\"wandb-row\"><div class=\"wandb-col\"><h3>Run history:</h3><br/><table class=\"wandb\"><tr><td>test_loss</td><td>▃█▂▁▁▁▁▁▁▁▁▁▁▁▁▁▁▁▁▁</td></tr><tr><td>train_loss</td><td>█▁▁▁▁▁▁▁▁▁▁▁▁▁▁▁▁▁▁▁</td></tr></table><br/></div><div class=\"wandb-col\"><h3>Run summary:</h3><br/><table class=\"wandb\"><tr><td>test_loss</td><td>0.01132</td></tr><tr><td>train_loss</td><td>0.0108</td></tr></table><br/></div></div>"
      ],
      "text/plain": [
       "<IPython.core.display.HTML object>"
      ]
     },
     "metadata": {},
     "output_type": "display_data"
    },
    {
     "data": {
      "text/html": [
       " View run <strong style=\"color:#cdcd00\">E2CNN_Rotation_None_None_None_None_False_4</strong> at: <a href='https://wandb.ai/tihstepml/Rotation_KR/runs/8fum935q' target=\"_blank\">https://wandb.ai/tihstepml/Rotation_KR/runs/8fum935q</a><br/> View project at: <a href='https://wandb.ai/tihstepml/Rotation_KR' target=\"_blank\">https://wandb.ai/tihstepml/Rotation_KR</a><br/>Synced 5 W&B file(s), 0 media file(s), 0 artifact file(s) and 0 other file(s)"
      ],
      "text/plain": [
       "<IPython.core.display.HTML object>"
      ]
     },
     "metadata": {},
     "output_type": "display_data"
    },
    {
     "data": {
      "text/html": [
       "Find logs at: <code>./wandb/run-20240513_163047-8fum935q/logs</code>"
      ],
      "text/plain": [
       "<IPython.core.display.HTML object>"
      ]
     },
     "metadata": {},
     "output_type": "display_data"
    },
    {
     "data": {
      "text/html": [
       "Tracking run with wandb version 0.17.0"
      ],
      "text/plain": [
       "<IPython.core.display.HTML object>"
      ]
     },
     "metadata": {},
     "output_type": "display_data"
    },
    {
     "data": {
      "text/html": [
       "Run data is saved locally in <code>/content/drive/MyDrive/AIRI FEM/wandb/run-20240513_163108-d9zfgdu9</code>"
      ],
      "text/plain": [
       "<IPython.core.display.HTML object>"
      ]
     },
     "metadata": {},
     "output_type": "display_data"
    },
    {
     "data": {
      "text/html": [
       "Syncing run <strong><a href='https://wandb.ai/tihstepml/Rotation_KR/runs/d9zfgdu9' target=\"_blank\">E2CNN_Rotation_None_None_None_None_False_5</a></strong> to <a href='https://wandb.ai/tihstepml/Rotation_KR' target=\"_blank\">Weights & Biases</a> (<a href='https://wandb.me/run' target=\"_blank\">docs</a>)<br/>"
      ],
      "text/plain": [
       "<IPython.core.display.HTML object>"
      ]
     },
     "metadata": {},
     "output_type": "display_data"
    },
    {
     "data": {
      "text/html": [
       " View project at <a href='https://wandb.ai/tihstepml/Rotation_KR' target=\"_blank\">https://wandb.ai/tihstepml/Rotation_KR</a>"
      ],
      "text/plain": [
       "<IPython.core.display.HTML object>"
      ]
     },
     "metadata": {},
     "output_type": "display_data"
    },
    {
     "data": {
      "text/html": [
       " View run at <a href='https://wandb.ai/tihstepml/Rotation_KR/runs/d9zfgdu9' target=\"_blank\">https://wandb.ai/tihstepml/Rotation_KR/runs/d9zfgdu9</a>"
      ],
      "text/plain": [
       "<IPython.core.display.HTML object>"
      ]
     },
     "metadata": {},
     "output_type": "display_data"
    },
    {
     "name": "stdout",
     "output_type": "stream",
     "text": [
      "Start training VAE...\n",
      "\tEpoch 1 complete! \tAverage train Loss:  424.0464883668948 \tAverage test Loss:  0.4890780236039843\n",
      "\tEpoch 2 complete! \tAverage train Loss:  0.9366596528029038 \tAverage test Loss:  0.3291925234454019\n",
      "\tEpoch 3 complete! \tAverage train Loss:  0.041801946932228946 \tAverage test Loss:  0.0641725127186094\n",
      "\tEpoch 4 complete! \tAverage train Loss:  0.02850659560980433 \tAverage test Loss:  0.0309110428871853\n",
      "\tEpoch 5 complete! \tAverage train Loss:  0.022988174647345382 \tAverage test Loss:  0.02444393121238266\n",
      "\tEpoch 6 complete! \tAverage train Loss:  0.019718099859053807 \tAverage test Loss:  0.02060319363538708\n",
      "\tEpoch 7 complete! \tAverage train Loss:  0.01765380703481072 \tAverage test Loss:  0.01845863607845136\n",
      "\tEpoch 8 complete! \tAverage train Loss:  0.015954602730728813 \tAverage test Loss:  0.01643379165657929\n",
      "\tEpoch 9 complete! \tAverage train Loss:  0.014889307035985639 \tAverage test Loss:  0.015450817067176104\n",
      "\tEpoch 10 complete! \tAverage train Loss:  0.014016009298926694 \tAverage test Loss:  0.014308299137545484\n",
      "\tEpoch 11 complete! \tAverage train Loss:  0.01305514908695625 \tAverage test Loss:  0.01330539318067687\n",
      "\tEpoch 12 complete! \tAverage train Loss:  0.012493005132902477 \tAverage test Loss:  0.012695594358124904\n",
      "\tEpoch 13 complete! \tAverage train Loss:  0.011821747599643165 \tAverage test Loss:  0.012494018434413843\n",
      "\tEpoch 14 complete! \tAverage train Loss:  0.011393371432767077 \tAverage test Loss:  0.01157804053010685\n",
      "\tEpoch 15 complete! \tAverage train Loss:  0.011172205115021285 \tAverage test Loss:  0.012285954784601927\n",
      "\tEpoch 16 complete! \tAverage train Loss:  0.010704985977608269 \tAverage test Loss:  0.011149336184774126\n",
      "\tEpoch 17 complete! \tAverage train Loss:  0.01056368189658654 \tAverage test Loss:  0.01086618731330548\n",
      "\tEpoch 18 complete! \tAverage train Loss:  0.010030255463542574 \tAverage test Loss:  0.010350000179771866\n",
      "\tEpoch 19 complete! \tAverage train Loss:  0.009666205667969534 \tAverage test Loss:  0.010163827799260616\n",
      "\tEpoch 20 complete! \tAverage train Loss:  0.009786573380736982 \tAverage test Loss:  0.010058823573802198\n",
      "Finish!!\n"
     ]
    },
    {
     "data": {
      "application/vnd.jupyter.widget-view+json": {
       "model_id": "691da4796fea42aa919d7fb322fdb3c6",
       "version_major": 2,
       "version_minor": 0
      },
      "text/plain": [
       "VBox(children=(Label(value='0.001 MB of 0.001 MB uploaded\\r'), FloatProgress(value=1.0, max=1.0)))"
      ]
     },
     "metadata": {},
     "output_type": "display_data"
    },
    {
     "data": {
      "text/html": [
       "<style>\n",
       "    table.wandb td:nth-child(1) { padding: 0 10px; text-align: left ; width: auto;} td:nth-child(2) {text-align: left ; width: 100%}\n",
       "    .wandb-row { display: flex; flex-direction: row; flex-wrap: wrap; justify-content: flex-start; width: 100% }\n",
       "    .wandb-col { display: flex; flex-direction: column; flex-basis: 100%; flex: 1; padding: 10px; }\n",
       "    </style>\n",
       "<div class=\"wandb-row\"><div class=\"wandb-col\"><h3>Run history:</h3><br/><table class=\"wandb\"><tr><td>test_loss</td><td>█▆▂▁▁▁▁▁▁▁▁▁▁▁▁▁▁▁▁▁</td></tr><tr><td>train_loss</td><td>█▁▁▁▁▁▁▁▁▁▁▁▁▁▁▁▁▁▁▁</td></tr></table><br/></div><div class=\"wandb-col\"><h3>Run summary:</h3><br/><table class=\"wandb\"><tr><td>test_loss</td><td>0.01006</td></tr><tr><td>train_loss</td><td>0.00979</td></tr></table><br/></div></div>"
      ],
      "text/plain": [
       "<IPython.core.display.HTML object>"
      ]
     },
     "metadata": {},
     "output_type": "display_data"
    },
    {
     "data": {
      "text/html": [
       " View run <strong style=\"color:#cdcd00\">E2CNN_Rotation_None_None_None_None_False_5</strong> at: <a href='https://wandb.ai/tihstepml/Rotation_KR/runs/d9zfgdu9' target=\"_blank\">https://wandb.ai/tihstepml/Rotation_KR/runs/d9zfgdu9</a><br/> View project at: <a href='https://wandb.ai/tihstepml/Rotation_KR' target=\"_blank\">https://wandb.ai/tihstepml/Rotation_KR</a><br/>Synced 5 W&B file(s), 0 media file(s), 0 artifact file(s) and 0 other file(s)"
      ],
      "text/plain": [
       "<IPython.core.display.HTML object>"
      ]
     },
     "metadata": {},
     "output_type": "display_data"
    },
    {
     "data": {
      "text/html": [
       "Find logs at: <code>./wandb/run-20240513_163108-d9zfgdu9/logs</code>"
      ],
      "text/plain": [
       "<IPython.core.display.HTML object>"
      ]
     },
     "metadata": {},
     "output_type": "display_data"
    },
    {
     "data": {
      "text/html": [
       "Tracking run with wandb version 0.17.0"
      ],
      "text/plain": [
       "<IPython.core.display.HTML object>"
      ]
     },
     "metadata": {},
     "output_type": "display_data"
    },
    {
     "data": {
      "text/html": [
       "Run data is saved locally in <code>/content/drive/MyDrive/AIRI FEM/wandb/run-20240513_163129-6gimcijt</code>"
      ],
      "text/plain": [
       "<IPython.core.display.HTML object>"
      ]
     },
     "metadata": {},
     "output_type": "display_data"
    },
    {
     "data": {
      "text/html": [
       "Syncing run <strong><a href='https://wandb.ai/tihstepml/Rotation_KR/runs/6gimcijt' target=\"_blank\">E2CNN_Rotation_None_None_None_None_False_6</a></strong> to <a href='https://wandb.ai/tihstepml/Rotation_KR' target=\"_blank\">Weights & Biases</a> (<a href='https://wandb.me/run' target=\"_blank\">docs</a>)<br/>"
      ],
      "text/plain": [
       "<IPython.core.display.HTML object>"
      ]
     },
     "metadata": {},
     "output_type": "display_data"
    },
    {
     "data": {
      "text/html": [
       " View project at <a href='https://wandb.ai/tihstepml/Rotation_KR' target=\"_blank\">https://wandb.ai/tihstepml/Rotation_KR</a>"
      ],
      "text/plain": [
       "<IPython.core.display.HTML object>"
      ]
     },
     "metadata": {},
     "output_type": "display_data"
    },
    {
     "data": {
      "text/html": [
       " View run at <a href='https://wandb.ai/tihstepml/Rotation_KR/runs/6gimcijt' target=\"_blank\">https://wandb.ai/tihstepml/Rotation_KR/runs/6gimcijt</a>"
      ],
      "text/plain": [
       "<IPython.core.display.HTML object>"
      ]
     },
     "metadata": {},
     "output_type": "display_data"
    },
    {
     "name": "stdout",
     "output_type": "stream",
     "text": [
      "Start training VAE...\n",
      "\tEpoch 1 complete! \tAverage train Loss:  20.496324127887267 \tAverage test Loss:  0.10949251215372767\n",
      "\tEpoch 2 complete! \tAverage train Loss:  0.038405578030999435 \tAverage test Loss:  0.2832204444067819\n",
      "\tEpoch 3 complete! \tAverage train Loss:  0.008642954317758144 \tAverage test Loss:  0.009086469787039928\n",
      "\tEpoch 4 complete! \tAverage train Loss:  0.007833329337191278 \tAverage test Loss:  0.007870483278696026\n",
      "\tEpoch 5 complete! \tAverage train Loss:  0.007248199513276755 \tAverage test Loss:  0.007436548891876425\n",
      "\tEpoch 6 complete! \tAverage train Loss:  0.006890660656963365 \tAverage test Loss:  0.007063290902546474\n",
      "\tEpoch 7 complete! \tAverage train Loss:  0.006582246493485014 \tAverage test Loss:  0.006799776905349323\n",
      "\tEpoch 8 complete! \tAverage train Loss:  0.006306789436582792 \tAverage test Loss:  0.006673343180279646\n",
      "\tEpoch 9 complete! \tAverage train Loss:  0.006056864453890061 \tAverage test Loss:  0.006364775289382253\n",
      "\tEpoch 10 complete! \tAverage train Loss:  0.005834431450624587 \tAverage test Loss:  0.006134777529431241\n",
      "\tEpoch 11 complete! \tAverage train Loss:  0.005616830054165448 \tAverage test Loss:  0.005994538344176752\n",
      "\tEpoch 12 complete! \tAverage train Loss:  0.005468796023120314 \tAverage test Loss:  0.005902947159484029\n",
      "\tEpoch 13 complete! \tAverage train Loss:  0.005320061140267526 \tAverage test Loss:  0.00573021373046296\n",
      "\tEpoch 14 complete! \tAverage train Loss:  0.0051363393964277484 \tAverage test Loss:  0.005645199146653924\n",
      "\tEpoch 15 complete! \tAverage train Loss:  0.00498577766515062 \tAverage test Loss:  0.005559674896565931\n",
      "\tEpoch 16 complete! \tAverage train Loss:  0.004841532033347225 \tAverage test Loss:  0.0053739681108189484\n",
      "\tEpoch 17 complete! \tAverage train Loss:  0.004745809834892467 \tAverage test Loss:  0.005289108060034258\n",
      "\tEpoch 18 complete! \tAverage train Loss:  0.004623852835936567 \tAverage test Loss:  0.005249896120013935\n",
      "\tEpoch 19 complete! \tAverage train Loss:  0.004501386821838253 \tAverage test Loss:  0.00518270638505263\n",
      "\tEpoch 20 complete! \tAverage train Loss:  0.004398210554273199 \tAverage test Loss:  0.005053606216928789\n",
      "Finish!!\n"
     ]
    },
    {
     "data": {
      "application/vnd.jupyter.widget-view+json": {
       "model_id": "fdadc5d637aa4c9bbc981caecc097aa9",
       "version_major": 2,
       "version_minor": 0
      },
      "text/plain": [
       "VBox(children=(Label(value='0.001 MB of 0.013 MB uploaded\\r'), FloatProgress(value=0.08808066258552395, max=1.…"
      ]
     },
     "metadata": {},
     "output_type": "display_data"
    },
    {
     "data": {
      "text/html": [
       "<style>\n",
       "    table.wandb td:nth-child(1) { padding: 0 10px; text-align: left ; width: auto;} td:nth-child(2) {text-align: left ; width: 100%}\n",
       "    .wandb-row { display: flex; flex-direction: row; flex-wrap: wrap; justify-content: flex-start; width: 100% }\n",
       "    .wandb-col { display: flex; flex-direction: column; flex-basis: 100%; flex: 1; padding: 10px; }\n",
       "    </style>\n",
       "<div class=\"wandb-row\"><div class=\"wandb-col\"><h3>Run history:</h3><br/><table class=\"wandb\"><tr><td>test_loss</td><td>▄█▁▁▁▁▁▁▁▁▁▁▁▁▁▁▁▁▁▁</td></tr><tr><td>train_loss</td><td>█▁▁▁▁▁▁▁▁▁▁▁▁▁▁▁▁▁▁▁</td></tr></table><br/></div><div class=\"wandb-col\"><h3>Run summary:</h3><br/><table class=\"wandb\"><tr><td>test_loss</td><td>0.00505</td></tr><tr><td>train_loss</td><td>0.0044</td></tr></table><br/></div></div>"
      ],
      "text/plain": [
       "<IPython.core.display.HTML object>"
      ]
     },
     "metadata": {},
     "output_type": "display_data"
    },
    {
     "data": {
      "text/html": [
       " View run <strong style=\"color:#cdcd00\">E2CNN_Rotation_None_None_None_None_False_6</strong> at: <a href='https://wandb.ai/tihstepml/Rotation_KR/runs/6gimcijt' target=\"_blank\">https://wandb.ai/tihstepml/Rotation_KR/runs/6gimcijt</a><br/> View project at: <a href='https://wandb.ai/tihstepml/Rotation_KR' target=\"_blank\">https://wandb.ai/tihstepml/Rotation_KR</a><br/>Synced 5 W&B file(s), 0 media file(s), 0 artifact file(s) and 0 other file(s)"
      ],
      "text/plain": [
       "<IPython.core.display.HTML object>"
      ]
     },
     "metadata": {},
     "output_type": "display_data"
    },
    {
     "data": {
      "text/html": [
       "Find logs at: <code>./wandb/run-20240513_163129-6gimcijt/logs</code>"
      ],
      "text/plain": [
       "<IPython.core.display.HTML object>"
      ]
     },
     "metadata": {},
     "output_type": "display_data"
    },
    {
     "data": {
      "text/html": [
       "Tracking run with wandb version 0.17.0"
      ],
      "text/plain": [
       "<IPython.core.display.HTML object>"
      ]
     },
     "metadata": {},
     "output_type": "display_data"
    },
    {
     "data": {
      "text/html": [
       "Run data is saved locally in <code>/content/drive/MyDrive/AIRI FEM/wandb/run-20240513_163151-x1wx1oxq</code>"
      ],
      "text/plain": [
       "<IPython.core.display.HTML object>"
      ]
     },
     "metadata": {},
     "output_type": "display_data"
    },
    {
     "data": {
      "text/html": [
       "Syncing run <strong><a href='https://wandb.ai/tihstepml/Rotation_KR/runs/x1wx1oxq' target=\"_blank\">E2CNN_Rotation_None_None_None_None_False_7</a></strong> to <a href='https://wandb.ai/tihstepml/Rotation_KR' target=\"_blank\">Weights & Biases</a> (<a href='https://wandb.me/run' target=\"_blank\">docs</a>)<br/>"
      ],
      "text/plain": [
       "<IPython.core.display.HTML object>"
      ]
     },
     "metadata": {},
     "output_type": "display_data"
    },
    {
     "data": {
      "text/html": [
       " View project at <a href='https://wandb.ai/tihstepml/Rotation_KR' target=\"_blank\">https://wandb.ai/tihstepml/Rotation_KR</a>"
      ],
      "text/plain": [
       "<IPython.core.display.HTML object>"
      ]
     },
     "metadata": {},
     "output_type": "display_data"
    },
    {
     "data": {
      "text/html": [
       " View run at <a href='https://wandb.ai/tihstepml/Rotation_KR/runs/x1wx1oxq' target=\"_blank\">https://wandb.ai/tihstepml/Rotation_KR/runs/x1wx1oxq</a>"
      ],
      "text/plain": [
       "<IPython.core.display.HTML object>"
      ]
     },
     "metadata": {},
     "output_type": "display_data"
    },
    {
     "name": "stdout",
     "output_type": "stream",
     "text": [
      "Start training VAE...\n",
      "\tEpoch 1 complete! \tAverage train Loss:  8.806967757484419 \tAverage test Loss:  0.06083933290626321\n",
      "\tEpoch 2 complete! \tAverage train Loss:  0.020570105746767278 \tAverage test Loss:  0.02423967234790325\n",
      "\tEpoch 3 complete! \tAverage train Loss:  0.008986748826011257 \tAverage test Loss:  0.009326070214488677\n",
      "\tEpoch 4 complete! \tAverage train Loss:  0.00795060239921687 \tAverage test Loss:  0.008027190242760949\n",
      "\tEpoch 5 complete! \tAverage train Loss:  0.0072591269262513875 \tAverage test Loss:  0.007546088392181056\n",
      "\tEpoch 6 complete! \tAverage train Loss:  0.006710038015271647 \tAverage test Loss:  0.007041921240410635\n",
      "\tEpoch 7 complete! \tAverage train Loss:  0.0062186857132967245 \tAverage test Loss:  0.006758187930764896\n",
      "\tEpoch 8 complete! \tAverage train Loss:  0.005796090178823067 \tAverage test Loss:  0.00648453861608037\n",
      "\tEpoch 9 complete! \tAverage train Loss:  0.005403680695315539 \tAverage test Loss:  0.0062644008347498515\n",
      "\tEpoch 10 complete! \tAverage train Loss:  0.005051983938694505 \tAverage test Loss:  0.0060569739102252895\n",
      "\tEpoch 11 complete! \tAverage train Loss:  0.004779513672751896 \tAverage test Loss:  0.005917868443897792\n",
      "\tEpoch 12 complete! \tAverage train Loss:  0.004536593632804135 \tAverage test Loss:  0.005726266386253493\n",
      "\tEpoch 13 complete! \tAverage train Loss:  0.004338441077240948 \tAverage test Loss:  0.005653249332681298\n",
      "\tEpoch 14 complete! \tAverage train Loss:  0.010143064791178805 \tAverage test Loss:  0.005563581994335566\n",
      "\tEpoch 15 complete! \tAverage train Loss:  0.004297869102397965 \tAverage test Loss:  0.005652109061234764\n",
      "\tEpoch 16 complete! \tAverage train Loss:  0.004122739405197613 \tAverage test Loss:  0.005501363459708435\n",
      "\tEpoch 17 complete! \tAverage train Loss:  0.0039532276391351625 \tAverage test Loss:  0.005362534895539284\n",
      "\tEpoch 18 complete! \tAverage train Loss:  0.0038329914717350976 \tAverage test Loss:  0.005375907989218831\n",
      "\tEpoch 19 complete! \tAverage train Loss:  0.0037251778886164145 \tAverage test Loss:  0.005280787058706794\n",
      "\tEpoch 20 complete! \tAverage train Loss:  0.0036150631810522686 \tAverage test Loss:  0.005344179758269872\n",
      "Finish!!\n"
     ]
    },
    {
     "data": {
      "application/vnd.jupyter.widget-view+json": {
       "model_id": "d3c73e00fad54fcdb5b1f48751e54591",
       "version_major": 2,
       "version_minor": 0
      },
      "text/plain": [
       "VBox(children=(Label(value='0.001 MB of 0.001 MB uploaded\\r'), FloatProgress(value=1.0, max=1.0)))"
      ]
     },
     "metadata": {},
     "output_type": "display_data"
    },
    {
     "data": {
      "text/html": [
       "<style>\n",
       "    table.wandb td:nth-child(1) { padding: 0 10px; text-align: left ; width: auto;} td:nth-child(2) {text-align: left ; width: 100%}\n",
       "    .wandb-row { display: flex; flex-direction: row; flex-wrap: wrap; justify-content: flex-start; width: 100% }\n",
       "    .wandb-col { display: flex; flex-direction: column; flex-basis: 100%; flex: 1; padding: 10px; }\n",
       "    </style>\n",
       "<div class=\"wandb-row\"><div class=\"wandb-col\"><h3>Run history:</h3><br/><table class=\"wandb\"><tr><td>test_loss</td><td>█▃▂▁▁▁▁▁▁▁▁▁▁▁▁▁▁▁▁▁</td></tr><tr><td>train_loss</td><td>█▁▁▁▁▁▁▁▁▁▁▁▁▁▁▁▁▁▁▁</td></tr></table><br/></div><div class=\"wandb-col\"><h3>Run summary:</h3><br/><table class=\"wandb\"><tr><td>test_loss</td><td>0.00534</td></tr><tr><td>train_loss</td><td>0.00362</td></tr></table><br/></div></div>"
      ],
      "text/plain": [
       "<IPython.core.display.HTML object>"
      ]
     },
     "metadata": {},
     "output_type": "display_data"
    },
    {
     "data": {
      "text/html": [
       " View run <strong style=\"color:#cdcd00\">E2CNN_Rotation_None_None_None_None_False_7</strong> at: <a href='https://wandb.ai/tihstepml/Rotation_KR/runs/x1wx1oxq' target=\"_blank\">https://wandb.ai/tihstepml/Rotation_KR/runs/x1wx1oxq</a><br/> View project at: <a href='https://wandb.ai/tihstepml/Rotation_KR' target=\"_blank\">https://wandb.ai/tihstepml/Rotation_KR</a><br/>Synced 5 W&B file(s), 0 media file(s), 0 artifact file(s) and 0 other file(s)"
      ],
      "text/plain": [
       "<IPython.core.display.HTML object>"
      ]
     },
     "metadata": {},
     "output_type": "display_data"
    },
    {
     "data": {
      "text/html": [
       "Find logs at: <code>./wandb/run-20240513_163151-x1wx1oxq/logs</code>"
      ],
      "text/plain": [
       "<IPython.core.display.HTML object>"
      ]
     },
     "metadata": {},
     "output_type": "display_data"
    }
   ],
   "source": [
    "# Запуск 15 обучений с логированием в wandb\n",
    "wandb.login()\n",
    "\n",
    "for num_run in range(data_config['run_amnt']):\n",
    "  pipe = Pipeline(data_config['path'])\n",
    "  train_imgs, test_imgs, train_labels, test_labels = train_test_split(pipe.imgs, pipe.labels, \\\n",
    "                                                           test_size=data_config['test_size'], random_state=num_run)\n",
    "  pipe.train_dataset = CustomImageDataset(train_imgs, train_labels, transform=False)\n",
    "  pipe.test_dataset = CustomImageDataset(test_imgs, test_labels, transform=False)\n",
    "  pipe.loader = Loader(pipe.train_dataset, pipe.test_dataset, batch_size=data_config['batch_size'], train=True)\n",
    "  config ={\n",
    "            'model' : 'E2CNN',\n",
    "            'aug' : 'Rotation',\n",
    "            'kernel' : None,\n",
    "            'groups' : None,\n",
    "            'layers' : None,\n",
    "            'repr' : None,\n",
    "            'polling' : False\n",
    "              }\n",
    "  run = wandb.init(\n",
    "    project=\"Rotation_KR\",\n",
    "    config=config,\n",
    "    name = '_'.join(list(map(str, config.values()))) + '_' + str(num_run),\n",
    "  )\n",
    "  pipe.train_loop()\n",
    "  wandb.finish()"
   ]
  },
  {
   "cell_type": "markdown",
   "metadata": {
    "id": "-V_dexgvUp_G"
   },
   "source": [
    "## Other\n",
    "#### Запуск одного обучения\n",
    "#### Инференс на тестовых данных"
   ]
  },
  {
   "cell_type": "code",
   "execution_count": null,
   "metadata": {
    "id": "ZQ_u34dkbHnB"
   },
   "outputs": [],
   "source": [
    "pipe = Pipeline(PATH)"
   ]
  },
  {
   "cell_type": "code",
   "execution_count": null,
   "metadata": {
    "id": "H2v23Hlf9Lch"
   },
   "outputs": [],
   "source": [
    "pipe.train_loop()"
   ]
  },
  {
   "cell_type": "code",
   "execution_count": null,
   "metadata": {
    "colab": {
     "base_uri": "https://localhost:8080/",
     "height": 277,
     "referenced_widgets": [
      "4d3eaf3db2fb41ec9024264fea4b42b0"
     ]
    },
    "executionInfo": {
     "elapsed": 7248,
     "status": "ok",
     "timestamp": 1711547591393,
     "user": {
      "displayName": "Тихомиров Степан",
      "userId": "16626673966734884347"
     },
     "user_tz": -180
    },
    "id": "X57K0aXMLF-e",
    "outputId": "f9168676-7012-42de-c58c-a6ce5e246e04"
   },
   "outputs": [
    {
     "data": {
      "text/html": [
       "Finishing last run (ID:ru4158rk) before initializing another..."
      ],
      "text/plain": [
       "<IPython.core.display.HTML object>"
      ]
     },
     "metadata": {},
     "output_type": "display_data"
    },
    {
     "data": {
      "application/vnd.jupyter.widget-view+json": {
       "model_id": "4d3eaf3db2fb41ec9024264fea4b42b0",
       "version_major": 2,
       "version_minor": 0
      },
      "text/plain": [
       "VBox(children=(Label(value='0.001 MB of 0.001 MB uploaded\\r'), FloatProgress(value=1.0, max=1.0)))"
      ]
     },
     "metadata": {},
     "output_type": "display_data"
    },
    {
     "data": {
      "text/html": [
       "<style>\n",
       "    table.wandb td:nth-child(1) { padding: 0 10px; text-align: left ; width: auto;} td:nth-child(2) {text-align: left ; width: 100%}\n",
       "    .wandb-row { display: flex; flex-direction: row; flex-wrap: wrap; justify-content: flex-start; width: 100% }\n",
       "    .wandb-col { display: flex; flex-direction: column; flex-basis: 100%; flex: 1; padding: 10px; }\n",
       "    </style>\n",
       "<div class=\"wandb-row\"><div class=\"wandb-col\"><h3>Run history:</h3><br/><table class=\"wandb\"><tr><td>mse</td><td>▅█▇▇▆█▁▅▃▆▅▃▇▇</td></tr></table><br/></div><div class=\"wandb-col\"><h3>Run summary:</h3><br/><table class=\"wandb\"><tr><td>mse</td><td>0.00024</td></tr></table><br/></div></div>"
      ],
      "text/plain": [
       "<IPython.core.display.HTML object>"
      ]
     },
     "metadata": {},
     "output_type": "display_data"
    },
    {
     "data": {
      "text/html": [
       " View run <strong style=\"color:#cdcd00\">Pytorch_aug_test</strong> at: <a href='https://wandb.ai/tihstepml/Topol_opt/runs/ru4158rk/workspace' target=\"_blank\">https://wandb.ai/tihstepml/Topol_opt/runs/ru4158rk/workspace</a><br/>Synced 5 W&B file(s), 0 media file(s), 0 artifact file(s) and 0 other file(s)"
      ],
      "text/plain": [
       "<IPython.core.display.HTML object>"
      ]
     },
     "metadata": {},
     "output_type": "display_data"
    },
    {
     "data": {
      "text/html": [
       "Find logs at: <code>./wandb/run-20240327_134850-ru4158rk/logs</code>"
      ],
      "text/plain": [
       "<IPython.core.display.HTML object>"
      ]
     },
     "metadata": {},
     "output_type": "display_data"
    },
    {
     "data": {
      "text/html": [
       "Successfully finished last run (ID:ru4158rk). Initializing new run:<br/>"
      ],
      "text/plain": [
       "<IPython.core.display.HTML object>"
      ]
     },
     "metadata": {},
     "output_type": "display_data"
    },
    {
     "data": {
      "text/html": [
       "Tracking run with wandb version 0.16.5"
      ],
      "text/plain": [
       "<IPython.core.display.HTML object>"
      ]
     },
     "metadata": {},
     "output_type": "display_data"
    },
    {
     "data": {
      "text/html": [
       "Run data is saved locally in <code>/content/drive/MyDrive/AIRI FEM/wandb/run-20240327_135304-weomy6ka</code>"
      ],
      "text/plain": [
       "<IPython.core.display.HTML object>"
      ]
     },
     "metadata": {},
     "output_type": "display_data"
    },
    {
     "data": {
      "text/html": [
       "Syncing run <strong><a href='https://wandb.ai/tihstepml/Topol_opt/runs/weomy6ka/workspace' target=\"_blank\">E2cnn_aug_test</a></strong> to <a href='https://wandb.ai/tihstepml/Topol_opt' target=\"_blank\">Weights & Biases</a> (<a href='https://wandb.me/run' target=\"_blank\">docs</a>)<br/>"
      ],
      "text/plain": [
       "<IPython.core.display.HTML object>"
      ]
     },
     "metadata": {},
     "output_type": "display_data"
    },
    {
     "data": {
      "text/html": [
       " View project at <a href='https://wandb.ai/tihstepml/Topol_opt' target=\"_blank\">https://wandb.ai/tihstepml/Topol_opt</a>"
      ],
      "text/plain": [
       "<IPython.core.display.HTML object>"
      ]
     },
     "metadata": {},
     "output_type": "display_data"
    },
    {
     "data": {
      "text/html": [
       " View run at <a href='https://wandb.ai/tihstepml/Topol_opt/runs/weomy6ka/workspace' target=\"_blank\">https://wandb.ai/tihstepml/Topol_opt/runs/weomy6ka/workspace</a>"
      ],
      "text/plain": [
       "<IPython.core.display.HTML object>"
      ]
     },
     "metadata": {},
     "output_type": "display_data"
    }
   ],
   "source": [
    "run = wandb.init(\n",
    "    project=\"Topol_opt\",\n",
    "    name = \"E2cnn_aug_test\",\n",
    "    config={\n",
    "            \"learning_rate\": LR,\n",
    "            \"epochs\": EPOCHS,\n",
    "            \"block\": \"E2cnn\"\n",
    "              },\n",
    ")"
   ]
  },
  {
   "cell_type": "code",
   "execution_count": null,
   "metadata": {
    "colab": {
     "base_uri": "https://localhost:8080/"
    },
    "executionInfo": {
     "elapsed": 456,
     "status": "ok",
     "timestamp": 1711547393397,
     "user": {
      "displayName": "Тихомиров Степан",
      "userId": "16626673966734884347"
     },
     "user_tz": -180
    },
    "id": "uNj6n7pKLIsa",
    "outputId": "0a1fd672-69b4-459d-b3e2-2dfa29abf98a"
   },
   "outputs": [
    {
     "data": {
      "text/plain": [
       "tensor(0.0015)"
      ]
     },
     "execution_count": 25,
     "metadata": {},
     "output_type": "execute_result"
    }
   ],
   "source": [
    "test_mse = 0\n",
    "for batch in pipe.loader.train:\n",
    "  prediction, label = pipe.evaluate(batch)\n",
    "  test_mse += pipe.loss(prediction.to('cpu'), label)/len(prediction)\n",
    "test_mse"
   ]
  },
  {
   "cell_type": "code",
   "execution_count": null,
   "metadata": {
    "colab": {
     "base_uri": "https://localhost:8080/"
    },
    "executionInfo": {
     "elapsed": 423,
     "status": "ok",
     "timestamp": 1711539722503,
     "user": {
      "displayName": "Тихомиров Степан",
      "userId": "16626673966734884347"
     },
     "user_tz": -180
    },
    "id": "ZcnKgu5G-7RL",
    "outputId": "32b7307b-5cc4-4316-b725-c371be54c243"
   },
   "outputs": [
    {
     "data": {
      "text/plain": [
       "tensor(0.0008)"
      ]
     },
     "execution_count": 47,
     "metadata": {},
     "output_type": "execute_result"
    }
   ],
   "source": [
    "test_mse = 0\n",
    "for batch in pipe.loader.test:\n",
    "  prediction, label = pipe.evaluate(batch)\n",
    "  test_mse += pipe.loss(prediction.to('cpu'), label)/len(prediction)\n",
    "test_mse"
   ]
  },
  {
   "cell_type": "code",
   "execution_count": null,
   "metadata": {
    "id": "JY4F3882dWxX"
   },
   "outputs": [],
   "source": [
    "# Запуск 5 обучений с логированием в wandb\n",
    "wandb.login()\n",
    "from sklearn.model_selection import KFold\n",
    "kf = KFold(n_splits=5, shuffle=False)\n",
    "for i, (train_index, test_index) in enumerate(kf.split(pipe.imgs)):\n",
    "  pipe = Pipeline(PATH)\n",
    "  pipe.train_dataset = CustomImageDataset(pipe.imgs[train_index], pipe.labels[train_index], transform=True)\n",
    "  pipe.test_dataset = CustomImageDataset(pipe.imgs[test_index], pipe.labels[test_index], transform=True)\n",
    "  pipe.loader = Loader(pipe.train_dataset, pipe.test_dataset, batch_size=BATCH_SIZE, train=True)\n",
    "  config ={\n",
    "            'model' : 'Vanilla_2',\n",
    "            'aug' : 'all',\n",
    "            'kernel' : None,\n",
    "            'groups' : None,\n",
    "            'layers' : 4,\n",
    "            'repr' : None,\n",
    "            'polling' : False\n",
    "              }\n",
    "  run = wandb.init(\n",
    "    project=\"Topol_opt\",\n",
    "    config=config,\n",
    "    name = '_'.join(list(map(str, config.values()))) + '_' + str(i),\n",
    "  )\n",
    "  pipe.train_loop()\n",
    "  wandb.finish()"
   ]
  }
 ],
 "metadata": {
  "accelerator": "GPU",
  "colab": {
   "authorship_tag": "ABX9TyO1jY8IRvh27AozM+hrtykO",
   "collapsed_sections": [
    "-V_dexgvUp_G"
   ],
   "gpuType": "T4",
   "mount_file_id": "1vy3jmy86gaP1v9kzFrYO26hT3rQKK8_H",
   "provenance": []
  },
  "kernelspec": {
   "display_name": "Python 3 (ipykernel)",
   "language": "python",
   "name": "python3"
  },
  "language_info": {
   "codemirror_mode": {
    "name": "ipython",
    "version": 3
   },
   "file_extension": ".py",
   "mimetype": "text/x-python",
   "name": "python",
   "nbconvert_exporter": "python",
   "pygments_lexer": "ipython3",
   "version": "3.11.5"
  },
  "widgets": {
   "application/vnd.jupyter.widget-state+json": {
    "032f56e810174f13bd5b904d447b87e6": {
     "model_module": "@jupyter-widgets/controls",
     "model_module_version": "1.5.0",
     "model_name": "ProgressStyleModel",
     "state": {
      "_model_module": "@jupyter-widgets/controls",
      "_model_module_version": "1.5.0",
      "_model_name": "ProgressStyleModel",
      "_view_count": null,
      "_view_module": "@jupyter-widgets/base",
      "_view_module_version": "1.2.0",
      "_view_name": "StyleView",
      "bar_color": null,
      "description_width": ""
     }
    },
    "0b708b42780747baa4c688c1719e48c8": {
     "model_module": "@jupyter-widgets/controls",
     "model_module_version": "1.5.0",
     "model_name": "ProgressStyleModel",
     "state": {
      "_model_module": "@jupyter-widgets/controls",
      "_model_module_version": "1.5.0",
      "_model_name": "ProgressStyleModel",
      "_view_count": null,
      "_view_module": "@jupyter-widgets/base",
      "_view_module_version": "1.2.0",
      "_view_name": "StyleView",
      "bar_color": null,
      "description_width": ""
     }
    },
    "0ed9bb1cb4d3435e9cdbc30253e42cd4": {
     "model_module": "@jupyter-widgets/base",
     "model_module_version": "1.2.0",
     "model_name": "LayoutModel",
     "state": {
      "_model_module": "@jupyter-widgets/base",
      "_model_module_version": "1.2.0",
      "_model_name": "LayoutModel",
      "_view_count": null,
      "_view_module": "@jupyter-widgets/base",
      "_view_module_version": "1.2.0",
      "_view_name": "LayoutView",
      "align_content": null,
      "align_items": null,
      "align_self": null,
      "border": null,
      "bottom": null,
      "display": null,
      "flex": null,
      "flex_flow": null,
      "grid_area": null,
      "grid_auto_columns": null,
      "grid_auto_flow": null,
      "grid_auto_rows": null,
      "grid_column": null,
      "grid_gap": null,
      "grid_row": null,
      "grid_template_areas": null,
      "grid_template_columns": null,
      "grid_template_rows": null,
      "height": null,
      "justify_content": null,
      "justify_items": null,
      "left": null,
      "margin": null,
      "max_height": null,
      "max_width": null,
      "min_height": null,
      "min_width": null,
      "object_fit": null,
      "object_position": null,
      "order": null,
      "overflow": null,
      "overflow_x": null,
      "overflow_y": null,
      "padding": null,
      "right": null,
      "top": null,
      "visibility": null,
      "width": null
     }
    },
    "13788baab6bf4c93b597efd91bd175d1": {
     "model_module": "@jupyter-widgets/controls",
     "model_module_version": "1.5.0",
     "model_name": "FloatProgressModel",
     "state": {
      "_dom_classes": [],
      "_model_module": "@jupyter-widgets/controls",
      "_model_module_version": "1.5.0",
      "_model_name": "FloatProgressModel",
      "_view_count": null,
      "_view_module": "@jupyter-widgets/controls",
      "_view_module_version": "1.5.0",
      "_view_name": "ProgressView",
      "bar_style": "",
      "description": "",
      "description_tooltip": null,
      "layout": "IPY_MODEL_77c8d2605b864d45a6f7704e94d23b1b",
      "max": 1,
      "min": 0,
      "orientation": "horizontal",
      "style": "IPY_MODEL_032f56e810174f13bd5b904d447b87e6",
      "value": 1
     }
    },
    "13a557c794234327909953a53cd177e0": {
     "model_module": "@jupyter-widgets/controls",
     "model_module_version": "1.5.0",
     "model_name": "FloatProgressModel",
     "state": {
      "_dom_classes": [],
      "_model_module": "@jupyter-widgets/controls",
      "_model_module_version": "1.5.0",
      "_model_name": "FloatProgressModel",
      "_view_count": null,
      "_view_module": "@jupyter-widgets/controls",
      "_view_module_version": "1.5.0",
      "_view_name": "ProgressView",
      "bar_style": "",
      "description": "",
      "description_tooltip": null,
      "layout": "IPY_MODEL_338c0975d43d4d29ab943b9df1e10e5c",
      "max": 1,
      "min": 0,
      "orientation": "horizontal",
      "style": "IPY_MODEL_8f2a1a9de65b442a94b8fce4265008d6",
      "value": 1
     }
    },
    "159c2d297ba64e1a862d025515dea839": {
     "model_module": "@jupyter-widgets/base",
     "model_module_version": "1.2.0",
     "model_name": "LayoutModel",
     "state": {
      "_model_module": "@jupyter-widgets/base",
      "_model_module_version": "1.2.0",
      "_model_name": "LayoutModel",
      "_view_count": null,
      "_view_module": "@jupyter-widgets/base",
      "_view_module_version": "1.2.0",
      "_view_name": "LayoutView",
      "align_content": null,
      "align_items": null,
      "align_self": null,
      "border": null,
      "bottom": null,
      "display": null,
      "flex": null,
      "flex_flow": null,
      "grid_area": null,
      "grid_auto_columns": null,
      "grid_auto_flow": null,
      "grid_auto_rows": null,
      "grid_column": null,
      "grid_gap": null,
      "grid_row": null,
      "grid_template_areas": null,
      "grid_template_columns": null,
      "grid_template_rows": null,
      "height": null,
      "justify_content": null,
      "justify_items": null,
      "left": null,
      "margin": null,
      "max_height": null,
      "max_width": null,
      "min_height": null,
      "min_width": null,
      "object_fit": null,
      "object_position": null,
      "order": null,
      "overflow": null,
      "overflow_x": null,
      "overflow_y": null,
      "padding": null,
      "right": null,
      "top": null,
      "visibility": null,
      "width": null
     }
    },
    "164dd798474c4efeb3b4a303c9960d73": {
     "model_module": "@jupyter-widgets/controls",
     "model_module_version": "1.5.0",
     "model_name": "LabelModel",
     "state": {
      "_dom_classes": [],
      "_model_module": "@jupyter-widgets/controls",
      "_model_module_version": "1.5.0",
      "_model_name": "LabelModel",
      "_view_count": null,
      "_view_module": "@jupyter-widgets/controls",
      "_view_module_version": "1.5.0",
      "_view_name": "LabelView",
      "description": "",
      "description_tooltip": null,
      "layout": "IPY_MODEL_c01590f5c6d9407a861e66f3acab42f5",
      "placeholder": "​",
      "style": "IPY_MODEL_a1fcd27fcca54129b1ce2f345463a269",
      "value": "0.013 MB of 0.013 MB uploaded\r"
     }
    },
    "239950919a0f4bfe81487a9cbc0bc912": {
     "model_module": "@jupyter-widgets/controls",
     "model_module_version": "1.5.0",
     "model_name": "FloatProgressModel",
     "state": {
      "_dom_classes": [],
      "_model_module": "@jupyter-widgets/controls",
      "_model_module_version": "1.5.0",
      "_model_name": "FloatProgressModel",
      "_view_count": null,
      "_view_module": "@jupyter-widgets/controls",
      "_view_module_version": "1.5.0",
      "_view_name": "ProgressView",
      "bar_style": "",
      "description": "",
      "description_tooltip": null,
      "layout": "IPY_MODEL_5bf488faf108476bbb03995347493131",
      "max": 1,
      "min": 0,
      "orientation": "horizontal",
      "style": "IPY_MODEL_5fdd44bae08246b7a4a1300a7a14f64d",
      "value": 1
     }
    },
    "338c0975d43d4d29ab943b9df1e10e5c": {
     "model_module": "@jupyter-widgets/base",
     "model_module_version": "1.2.0",
     "model_name": "LayoutModel",
     "state": {
      "_model_module": "@jupyter-widgets/base",
      "_model_module_version": "1.2.0",
      "_model_name": "LayoutModel",
      "_view_count": null,
      "_view_module": "@jupyter-widgets/base",
      "_view_module_version": "1.2.0",
      "_view_name": "LayoutView",
      "align_content": null,
      "align_items": null,
      "align_self": null,
      "border": null,
      "bottom": null,
      "display": null,
      "flex": null,
      "flex_flow": null,
      "grid_area": null,
      "grid_auto_columns": null,
      "grid_auto_flow": null,
      "grid_auto_rows": null,
      "grid_column": null,
      "grid_gap": null,
      "grid_row": null,
      "grid_template_areas": null,
      "grid_template_columns": null,
      "grid_template_rows": null,
      "height": null,
      "justify_content": null,
      "justify_items": null,
      "left": null,
      "margin": null,
      "max_height": null,
      "max_width": null,
      "min_height": null,
      "min_width": null,
      "object_fit": null,
      "object_position": null,
      "order": null,
      "overflow": null,
      "overflow_x": null,
      "overflow_y": null,
      "padding": null,
      "right": null,
      "top": null,
      "visibility": null,
      "width": null
     }
    },
    "3479f5a526c8493f84fa3cd658c7a077": {
     "model_module": "@jupyter-widgets/base",
     "model_module_version": "1.2.0",
     "model_name": "LayoutModel",
     "state": {
      "_model_module": "@jupyter-widgets/base",
      "_model_module_version": "1.2.0",
      "_model_name": "LayoutModel",
      "_view_count": null,
      "_view_module": "@jupyter-widgets/base",
      "_view_module_version": "1.2.0",
      "_view_name": "LayoutView",
      "align_content": null,
      "align_items": null,
      "align_self": null,
      "border": null,
      "bottom": null,
      "display": null,
      "flex": null,
      "flex_flow": null,
      "grid_area": null,
      "grid_auto_columns": null,
      "grid_auto_flow": null,
      "grid_auto_rows": null,
      "grid_column": null,
      "grid_gap": null,
      "grid_row": null,
      "grid_template_areas": null,
      "grid_template_columns": null,
      "grid_template_rows": null,
      "height": null,
      "justify_content": null,
      "justify_items": null,
      "left": null,
      "margin": null,
      "max_height": null,
      "max_width": null,
      "min_height": null,
      "min_width": null,
      "object_fit": null,
      "object_position": null,
      "order": null,
      "overflow": null,
      "overflow_x": null,
      "overflow_y": null,
      "padding": null,
      "right": null,
      "top": null,
      "visibility": null,
      "width": null
     }
    },
    "373960b970f2492d9a06139f93096689": {
     "model_module": "@jupyter-widgets/controls",
     "model_module_version": "1.5.0",
     "model_name": "DescriptionStyleModel",
     "state": {
      "_model_module": "@jupyter-widgets/controls",
      "_model_module_version": "1.5.0",
      "_model_name": "DescriptionStyleModel",
      "_view_count": null,
      "_view_module": "@jupyter-widgets/base",
      "_view_module_version": "1.2.0",
      "_view_name": "StyleView",
      "description_width": ""
     }
    },
    "3c558e73e6eb4ba5b30547b7c55f445a": {
     "model_module": "@jupyter-widgets/controls",
     "model_module_version": "1.5.0",
     "model_name": "VBoxModel",
     "state": {
      "_dom_classes": [],
      "_model_module": "@jupyter-widgets/controls",
      "_model_module_version": "1.5.0",
      "_model_name": "VBoxModel",
      "_view_count": null,
      "_view_module": "@jupyter-widgets/controls",
      "_view_module_version": "1.5.0",
      "_view_name": "VBoxView",
      "box_style": "",
      "children": [
       "IPY_MODEL_e7beb977b77f475fa97b1add4fe9be25",
       "IPY_MODEL_239950919a0f4bfe81487a9cbc0bc912"
      ],
      "layout": "IPY_MODEL_842cb56cbfc8493da2209881b6558982"
     }
    },
    "3c8efaed917c4d0eb7f2357690f3962c": {
     "model_module": "@jupyter-widgets/controls",
     "model_module_version": "1.5.0",
     "model_name": "DescriptionStyleModel",
     "state": {
      "_model_module": "@jupyter-widgets/controls",
      "_model_module_version": "1.5.0",
      "_model_name": "DescriptionStyleModel",
      "_view_count": null,
      "_view_module": "@jupyter-widgets/base",
      "_view_module_version": "1.2.0",
      "_view_name": "StyleView",
      "description_width": ""
     }
    },
    "40c0f79660eb458c8e191f917d40954c": {
     "model_module": "@jupyter-widgets/controls",
     "model_module_version": "1.5.0",
     "model_name": "FloatProgressModel",
     "state": {
      "_dom_classes": [],
      "_model_module": "@jupyter-widgets/controls",
      "_model_module_version": "1.5.0",
      "_model_name": "FloatProgressModel",
      "_view_count": null,
      "_view_module": "@jupyter-widgets/controls",
      "_view_module_version": "1.5.0",
      "_view_name": "ProgressView",
      "bar_style": "",
      "description": "",
      "description_tooltip": null,
      "layout": "IPY_MODEL_84b10473f7b640598ab6f198aab677c5",
      "max": 1,
      "min": 0,
      "orientation": "horizontal",
      "style": "IPY_MODEL_9e0ca6d6893e45cf84f3983ac9eae2cb",
      "value": 1
     }
    },
    "464e00a229124ad39eb3d81202a1f746": {
     "model_module": "@jupyter-widgets/controls",
     "model_module_version": "1.5.0",
     "model_name": "FloatProgressModel",
     "state": {
      "_dom_classes": [],
      "_model_module": "@jupyter-widgets/controls",
      "_model_module_version": "1.5.0",
      "_model_name": "FloatProgressModel",
      "_view_count": null,
      "_view_module": "@jupyter-widgets/controls",
      "_view_module_version": "1.5.0",
      "_view_name": "ProgressView",
      "bar_style": "",
      "description": "",
      "description_tooltip": null,
      "layout": "IPY_MODEL_159c2d297ba64e1a862d025515dea839",
      "max": 1,
      "min": 0,
      "orientation": "horizontal",
      "style": "IPY_MODEL_a62c0c651e6d494786413d3b869238ce",
      "value": 1
     }
    },
    "4a9c11fa85c547e38766a603768d12d4": {
     "model_module": "@jupyter-widgets/base",
     "model_module_version": "1.2.0",
     "model_name": "LayoutModel",
     "state": {
      "_model_module": "@jupyter-widgets/base",
      "_model_module_version": "1.2.0",
      "_model_name": "LayoutModel",
      "_view_count": null,
      "_view_module": "@jupyter-widgets/base",
      "_view_module_version": "1.2.0",
      "_view_name": "LayoutView",
      "align_content": null,
      "align_items": null,
      "align_self": null,
      "border": null,
      "bottom": null,
      "display": null,
      "flex": null,
      "flex_flow": null,
      "grid_area": null,
      "grid_auto_columns": null,
      "grid_auto_flow": null,
      "grid_auto_rows": null,
      "grid_column": null,
      "grid_gap": null,
      "grid_row": null,
      "grid_template_areas": null,
      "grid_template_columns": null,
      "grid_template_rows": null,
      "height": null,
      "justify_content": null,
      "justify_items": null,
      "left": null,
      "margin": null,
      "max_height": null,
      "max_width": null,
      "min_height": null,
      "min_width": null,
      "object_fit": null,
      "object_position": null,
      "order": null,
      "overflow": null,
      "overflow_x": null,
      "overflow_y": null,
      "padding": null,
      "right": null,
      "top": null,
      "visibility": null,
      "width": null
     }
    },
    "50666e759d624df3b30bcb0e6bc096e3": {
     "model_module": "@jupyter-widgets/controls",
     "model_module_version": "1.5.0",
     "model_name": "FloatProgressModel",
     "state": {
      "_dom_classes": [],
      "_model_module": "@jupyter-widgets/controls",
      "_model_module_version": "1.5.0",
      "_model_name": "FloatProgressModel",
      "_view_count": null,
      "_view_module": "@jupyter-widgets/controls",
      "_view_module_version": "1.5.0",
      "_view_name": "ProgressView",
      "bar_style": "",
      "description": "",
      "description_tooltip": null,
      "layout": "IPY_MODEL_cb4f471eba0242c2afc68362308fd463",
      "max": 1,
      "min": 0,
      "orientation": "horizontal",
      "style": "IPY_MODEL_0b708b42780747baa4c688c1719e48c8",
      "value": 1
     }
    },
    "54a7469a02c44c7cb2ab546e483b9799": {
     "model_module": "@jupyter-widgets/controls",
     "model_module_version": "1.5.0",
     "model_name": "LabelModel",
     "state": {
      "_dom_classes": [],
      "_model_module": "@jupyter-widgets/controls",
      "_model_module_version": "1.5.0",
      "_model_name": "LabelModel",
      "_view_count": null,
      "_view_module": "@jupyter-widgets/controls",
      "_view_module_version": "1.5.0",
      "_view_name": "LabelView",
      "description": "",
      "description_tooltip": null,
      "layout": "IPY_MODEL_e582564470dd45c08c4652e32053bd84",
      "placeholder": "​",
      "style": "IPY_MODEL_5c82795d9aba4b5da395a91aa1db4011",
      "value": "0.013 MB of 0.013 MB uploaded\r"
     }
    },
    "55dfcb379f7d4efbbaec7a0315d5afe0": {
     "model_module": "@jupyter-widgets/controls",
     "model_module_version": "1.5.0",
     "model_name": "FloatProgressModel",
     "state": {
      "_dom_classes": [],
      "_model_module": "@jupyter-widgets/controls",
      "_model_module_version": "1.5.0",
      "_model_name": "FloatProgressModel",
      "_view_count": null,
      "_view_module": "@jupyter-widgets/controls",
      "_view_module_version": "1.5.0",
      "_view_name": "ProgressView",
      "bar_style": "",
      "description": "",
      "description_tooltip": null,
      "layout": "IPY_MODEL_6dc432378894480e86b3252286ab3059",
      "max": 1,
      "min": 0,
      "orientation": "horizontal",
      "style": "IPY_MODEL_7f5b8d4954e14c968f2adfff8914ae66",
      "value": 1
     }
    },
    "5bf488faf108476bbb03995347493131": {
     "model_module": "@jupyter-widgets/base",
     "model_module_version": "1.2.0",
     "model_name": "LayoutModel",
     "state": {
      "_model_module": "@jupyter-widgets/base",
      "_model_module_version": "1.2.0",
      "_model_name": "LayoutModel",
      "_view_count": null,
      "_view_module": "@jupyter-widgets/base",
      "_view_module_version": "1.2.0",
      "_view_name": "LayoutView",
      "align_content": null,
      "align_items": null,
      "align_self": null,
      "border": null,
      "bottom": null,
      "display": null,
      "flex": null,
      "flex_flow": null,
      "grid_area": null,
      "grid_auto_columns": null,
      "grid_auto_flow": null,
      "grid_auto_rows": null,
      "grid_column": null,
      "grid_gap": null,
      "grid_row": null,
      "grid_template_areas": null,
      "grid_template_columns": null,
      "grid_template_rows": null,
      "height": null,
      "justify_content": null,
      "justify_items": null,
      "left": null,
      "margin": null,
      "max_height": null,
      "max_width": null,
      "min_height": null,
      "min_width": null,
      "object_fit": null,
      "object_position": null,
      "order": null,
      "overflow": null,
      "overflow_x": null,
      "overflow_y": null,
      "padding": null,
      "right": null,
      "top": null,
      "visibility": null,
      "width": null
     }
    },
    "5c1a6ce83eb34cc5bc994bb90b1f8616": {
     "model_module": "@jupyter-widgets/controls",
     "model_module_version": "1.5.0",
     "model_name": "VBoxModel",
     "state": {
      "_dom_classes": [],
      "_model_module": "@jupyter-widgets/controls",
      "_model_module_version": "1.5.0",
      "_model_name": "VBoxModel",
      "_view_count": null,
      "_view_module": "@jupyter-widgets/controls",
      "_view_module_version": "1.5.0",
      "_view_name": "VBoxView",
      "box_style": "",
      "children": [
       "IPY_MODEL_b43bf94c783249be842dbbc08770d0f7",
       "IPY_MODEL_55dfcb379f7d4efbbaec7a0315d5afe0"
      ],
      "layout": "IPY_MODEL_a39bc0fc8fb34b78be962c0e8412b3a1"
     }
    },
    "5c82795d9aba4b5da395a91aa1db4011": {
     "model_module": "@jupyter-widgets/controls",
     "model_module_version": "1.5.0",
     "model_name": "DescriptionStyleModel",
     "state": {
      "_model_module": "@jupyter-widgets/controls",
      "_model_module_version": "1.5.0",
      "_model_name": "DescriptionStyleModel",
      "_view_count": null,
      "_view_module": "@jupyter-widgets/base",
      "_view_module_version": "1.2.0",
      "_view_name": "StyleView",
      "description_width": ""
     }
    },
    "5fdd44bae08246b7a4a1300a7a14f64d": {
     "model_module": "@jupyter-widgets/controls",
     "model_module_version": "1.5.0",
     "model_name": "ProgressStyleModel",
     "state": {
      "_model_module": "@jupyter-widgets/controls",
      "_model_module_version": "1.5.0",
      "_model_name": "ProgressStyleModel",
      "_view_count": null,
      "_view_module": "@jupyter-widgets/base",
      "_view_module_version": "1.2.0",
      "_view_name": "StyleView",
      "bar_color": null,
      "description_width": ""
     }
    },
    "691da4796fea42aa919d7fb322fdb3c6": {
     "model_module": "@jupyter-widgets/controls",
     "model_module_version": "1.5.0",
     "model_name": "VBoxModel",
     "state": {
      "_dom_classes": [],
      "_model_module": "@jupyter-widgets/controls",
      "_model_module_version": "1.5.0",
      "_model_name": "VBoxModel",
      "_view_count": null,
      "_view_module": "@jupyter-widgets/controls",
      "_view_module_version": "1.5.0",
      "_view_name": "VBoxView",
      "box_style": "",
      "children": [
       "IPY_MODEL_164dd798474c4efeb3b4a303c9960d73",
       "IPY_MODEL_464e00a229124ad39eb3d81202a1f746"
      ],
      "layout": "IPY_MODEL_888580333a424a57b30e44b30e071184"
     }
    },
    "6dc432378894480e86b3252286ab3059": {
     "model_module": "@jupyter-widgets/base",
     "model_module_version": "1.2.0",
     "model_name": "LayoutModel",
     "state": {
      "_model_module": "@jupyter-widgets/base",
      "_model_module_version": "1.2.0",
      "_model_name": "LayoutModel",
      "_view_count": null,
      "_view_module": "@jupyter-widgets/base",
      "_view_module_version": "1.2.0",
      "_view_name": "LayoutView",
      "align_content": null,
      "align_items": null,
      "align_self": null,
      "border": null,
      "bottom": null,
      "display": null,
      "flex": null,
      "flex_flow": null,
      "grid_area": null,
      "grid_auto_columns": null,
      "grid_auto_flow": null,
      "grid_auto_rows": null,
      "grid_column": null,
      "grid_gap": null,
      "grid_row": null,
      "grid_template_areas": null,
      "grid_template_columns": null,
      "grid_template_rows": null,
      "height": null,
      "justify_content": null,
      "justify_items": null,
      "left": null,
      "margin": null,
      "max_height": null,
      "max_width": null,
      "min_height": null,
      "min_width": null,
      "object_fit": null,
      "object_position": null,
      "order": null,
      "overflow": null,
      "overflow_x": null,
      "overflow_y": null,
      "padding": null,
      "right": null,
      "top": null,
      "visibility": null,
      "width": null
     }
    },
    "6f5ca3e1b7c64fefa16f9e16b06934ee": {
     "model_module": "@jupyter-widgets/controls",
     "model_module_version": "1.5.0",
     "model_name": "LabelModel",
     "state": {
      "_dom_classes": [],
      "_model_module": "@jupyter-widgets/controls",
      "_model_module_version": "1.5.0",
      "_model_name": "LabelModel",
      "_view_count": null,
      "_view_module": "@jupyter-widgets/controls",
      "_view_module_version": "1.5.0",
      "_view_name": "LabelView",
      "description": "",
      "description_tooltip": null,
      "layout": "IPY_MODEL_4a9c11fa85c547e38766a603768d12d4",
      "placeholder": "​",
      "style": "IPY_MODEL_373960b970f2492d9a06139f93096689",
      "value": "0.013 MB of 0.013 MB uploaded\r"
     }
    },
    "72afb9e1ca414e6dbbc05c6d0849878f": {
     "model_module": "@jupyter-widgets/controls",
     "model_module_version": "1.5.0",
     "model_name": "FloatProgressModel",
     "state": {
      "_dom_classes": [],
      "_model_module": "@jupyter-widgets/controls",
      "_model_module_version": "1.5.0",
      "_model_name": "FloatProgressModel",
      "_view_count": null,
      "_view_module": "@jupyter-widgets/controls",
      "_view_module_version": "1.5.0",
      "_view_name": "ProgressView",
      "bar_style": "",
      "description": "",
      "description_tooltip": null,
      "layout": "IPY_MODEL_dcd8d9bb3de54aa185e7d54fc4dfcedf",
      "max": 1,
      "min": 0,
      "orientation": "horizontal",
      "style": "IPY_MODEL_aad8b475316347cf8e2658404ab1b4ec",
      "value": 1
     }
    },
    "744d63afb25d48109779a2d9feeaa569": {
     "model_module": "@jupyter-widgets/controls",
     "model_module_version": "1.5.0",
     "model_name": "VBoxModel",
     "state": {
      "_dom_classes": [],
      "_model_module": "@jupyter-widgets/controls",
      "_model_module_version": "1.5.0",
      "_model_name": "VBoxModel",
      "_view_count": null,
      "_view_module": "@jupyter-widgets/controls",
      "_view_module_version": "1.5.0",
      "_view_name": "VBoxView",
      "box_style": "",
      "children": [
       "IPY_MODEL_cc81013b7ad34117b5f71dd5b97e1fcd",
       "IPY_MODEL_13788baab6bf4c93b597efd91bd175d1"
      ],
      "layout": "IPY_MODEL_8d90836db211411a83fc09a8ff73bec6"
     }
    },
    "75ad65c98ca042d7b3d4ad36c6fb2c35": {
     "model_module": "@jupyter-widgets/controls",
     "model_module_version": "1.5.0",
     "model_name": "DescriptionStyleModel",
     "state": {
      "_model_module": "@jupyter-widgets/controls",
      "_model_module_version": "1.5.0",
      "_model_name": "DescriptionStyleModel",
      "_view_count": null,
      "_view_module": "@jupyter-widgets/base",
      "_view_module_version": "1.2.0",
      "_view_name": "StyleView",
      "description_width": ""
     }
    },
    "760d8b1465674dcca85f6100d4006bfb": {
     "model_module": "@jupyter-widgets/base",
     "model_module_version": "1.2.0",
     "model_name": "LayoutModel",
     "state": {
      "_model_module": "@jupyter-widgets/base",
      "_model_module_version": "1.2.0",
      "_model_name": "LayoutModel",
      "_view_count": null,
      "_view_module": "@jupyter-widgets/base",
      "_view_module_version": "1.2.0",
      "_view_name": "LayoutView",
      "align_content": null,
      "align_items": null,
      "align_self": null,
      "border": null,
      "bottom": null,
      "display": null,
      "flex": null,
      "flex_flow": null,
      "grid_area": null,
      "grid_auto_columns": null,
      "grid_auto_flow": null,
      "grid_auto_rows": null,
      "grid_column": null,
      "grid_gap": null,
      "grid_row": null,
      "grid_template_areas": null,
      "grid_template_columns": null,
      "grid_template_rows": null,
      "height": null,
      "justify_content": null,
      "justify_items": null,
      "left": null,
      "margin": null,
      "max_height": null,
      "max_width": null,
      "min_height": null,
      "min_width": null,
      "object_fit": null,
      "object_position": null,
      "order": null,
      "overflow": null,
      "overflow_x": null,
      "overflow_y": null,
      "padding": null,
      "right": null,
      "top": null,
      "visibility": null,
      "width": null
     }
    },
    "76d008f3e38f4c22af28f8ebc3d5df85": {
     "model_module": "@jupyter-widgets/controls",
     "model_module_version": "1.5.0",
     "model_name": "LabelModel",
     "state": {
      "_dom_classes": [],
      "_model_module": "@jupyter-widgets/controls",
      "_model_module_version": "1.5.0",
      "_model_name": "LabelModel",
      "_view_count": null,
      "_view_module": "@jupyter-widgets/controls",
      "_view_module_version": "1.5.0",
      "_view_name": "LabelView",
      "description": "",
      "description_tooltip": null,
      "layout": "IPY_MODEL_760d8b1465674dcca85f6100d4006bfb",
      "placeholder": "​",
      "style": "IPY_MODEL_c051b46b03b44520a9dd13b35a01e7a3",
      "value": "0.013 MB of 0.013 MB uploaded\r"
     }
    },
    "77c8d2605b864d45a6f7704e94d23b1b": {
     "model_module": "@jupyter-widgets/base",
     "model_module_version": "1.2.0",
     "model_name": "LayoutModel",
     "state": {
      "_model_module": "@jupyter-widgets/base",
      "_model_module_version": "1.2.0",
      "_model_name": "LayoutModel",
      "_view_count": null,
      "_view_module": "@jupyter-widgets/base",
      "_view_module_version": "1.2.0",
      "_view_name": "LayoutView",
      "align_content": null,
      "align_items": null,
      "align_self": null,
      "border": null,
      "bottom": null,
      "display": null,
      "flex": null,
      "flex_flow": null,
      "grid_area": null,
      "grid_auto_columns": null,
      "grid_auto_flow": null,
      "grid_auto_rows": null,
      "grid_column": null,
      "grid_gap": null,
      "grid_row": null,
      "grid_template_areas": null,
      "grid_template_columns": null,
      "grid_template_rows": null,
      "height": null,
      "justify_content": null,
      "justify_items": null,
      "left": null,
      "margin": null,
      "max_height": null,
      "max_width": null,
      "min_height": null,
      "min_width": null,
      "object_fit": null,
      "object_position": null,
      "order": null,
      "overflow": null,
      "overflow_x": null,
      "overflow_y": null,
      "padding": null,
      "right": null,
      "top": null,
      "visibility": null,
      "width": null
     }
    },
    "7dbf81707d5a43b18eb189f27e4eead3": {
     "model_module": "@jupyter-widgets/controls",
     "model_module_version": "1.5.0",
     "model_name": "DescriptionStyleModel",
     "state": {
      "_model_module": "@jupyter-widgets/controls",
      "_model_module_version": "1.5.0",
      "_model_name": "DescriptionStyleModel",
      "_view_count": null,
      "_view_module": "@jupyter-widgets/base",
      "_view_module_version": "1.2.0",
      "_view_name": "StyleView",
      "description_width": ""
     }
    },
    "7f5b8d4954e14c968f2adfff8914ae66": {
     "model_module": "@jupyter-widgets/controls",
     "model_module_version": "1.5.0",
     "model_name": "ProgressStyleModel",
     "state": {
      "_model_module": "@jupyter-widgets/controls",
      "_model_module_version": "1.5.0",
      "_model_name": "ProgressStyleModel",
      "_view_count": null,
      "_view_module": "@jupyter-widgets/base",
      "_view_module_version": "1.2.0",
      "_view_name": "StyleView",
      "bar_color": null,
      "description_width": ""
     }
    },
    "7fa12c1c20a943b2867bb4d32d2a3e93": {
     "model_module": "@jupyter-widgets/base",
     "model_module_version": "1.2.0",
     "model_name": "LayoutModel",
     "state": {
      "_model_module": "@jupyter-widgets/base",
      "_model_module_version": "1.2.0",
      "_model_name": "LayoutModel",
      "_view_count": null,
      "_view_module": "@jupyter-widgets/base",
      "_view_module_version": "1.2.0",
      "_view_name": "LayoutView",
      "align_content": null,
      "align_items": null,
      "align_self": null,
      "border": null,
      "bottom": null,
      "display": null,
      "flex": null,
      "flex_flow": null,
      "grid_area": null,
      "grid_auto_columns": null,
      "grid_auto_flow": null,
      "grid_auto_rows": null,
      "grid_column": null,
      "grid_gap": null,
      "grid_row": null,
      "grid_template_areas": null,
      "grid_template_columns": null,
      "grid_template_rows": null,
      "height": null,
      "justify_content": null,
      "justify_items": null,
      "left": null,
      "margin": null,
      "max_height": null,
      "max_width": null,
      "min_height": null,
      "min_width": null,
      "object_fit": null,
      "object_position": null,
      "order": null,
      "overflow": null,
      "overflow_x": null,
      "overflow_y": null,
      "padding": null,
      "right": null,
      "top": null,
      "visibility": null,
      "width": null
     }
    },
    "842cb56cbfc8493da2209881b6558982": {
     "model_module": "@jupyter-widgets/base",
     "model_module_version": "1.2.0",
     "model_name": "LayoutModel",
     "state": {
      "_model_module": "@jupyter-widgets/base",
      "_model_module_version": "1.2.0",
      "_model_name": "LayoutModel",
      "_view_count": null,
      "_view_module": "@jupyter-widgets/base",
      "_view_module_version": "1.2.0",
      "_view_name": "LayoutView",
      "align_content": null,
      "align_items": null,
      "align_self": null,
      "border": null,
      "bottom": null,
      "display": null,
      "flex": null,
      "flex_flow": null,
      "grid_area": null,
      "grid_auto_columns": null,
      "grid_auto_flow": null,
      "grid_auto_rows": null,
      "grid_column": null,
      "grid_gap": null,
      "grid_row": null,
      "grid_template_areas": null,
      "grid_template_columns": null,
      "grid_template_rows": null,
      "height": null,
      "justify_content": null,
      "justify_items": null,
      "left": null,
      "margin": null,
      "max_height": null,
      "max_width": null,
      "min_height": null,
      "min_width": null,
      "object_fit": null,
      "object_position": null,
      "order": null,
      "overflow": null,
      "overflow_x": null,
      "overflow_y": null,
      "padding": null,
      "right": null,
      "top": null,
      "visibility": null,
      "width": null
     }
    },
    "84b10473f7b640598ab6f198aab677c5": {
     "model_module": "@jupyter-widgets/base",
     "model_module_version": "1.2.0",
     "model_name": "LayoutModel",
     "state": {
      "_model_module": "@jupyter-widgets/base",
      "_model_module_version": "1.2.0",
      "_model_name": "LayoutModel",
      "_view_count": null,
      "_view_module": "@jupyter-widgets/base",
      "_view_module_version": "1.2.0",
      "_view_name": "LayoutView",
      "align_content": null,
      "align_items": null,
      "align_self": null,
      "border": null,
      "bottom": null,
      "display": null,
      "flex": null,
      "flex_flow": null,
      "grid_area": null,
      "grid_auto_columns": null,
      "grid_auto_flow": null,
      "grid_auto_rows": null,
      "grid_column": null,
      "grid_gap": null,
      "grid_row": null,
      "grid_template_areas": null,
      "grid_template_columns": null,
      "grid_template_rows": null,
      "height": null,
      "justify_content": null,
      "justify_items": null,
      "left": null,
      "margin": null,
      "max_height": null,
      "max_width": null,
      "min_height": null,
      "min_width": null,
      "object_fit": null,
      "object_position": null,
      "order": null,
      "overflow": null,
      "overflow_x": null,
      "overflow_y": null,
      "padding": null,
      "right": null,
      "top": null,
      "visibility": null,
      "width": null
     }
    },
    "888580333a424a57b30e44b30e071184": {
     "model_module": "@jupyter-widgets/base",
     "model_module_version": "1.2.0",
     "model_name": "LayoutModel",
     "state": {
      "_model_module": "@jupyter-widgets/base",
      "_model_module_version": "1.2.0",
      "_model_name": "LayoutModel",
      "_view_count": null,
      "_view_module": "@jupyter-widgets/base",
      "_view_module_version": "1.2.0",
      "_view_name": "LayoutView",
      "align_content": null,
      "align_items": null,
      "align_self": null,
      "border": null,
      "bottom": null,
      "display": null,
      "flex": null,
      "flex_flow": null,
      "grid_area": null,
      "grid_auto_columns": null,
      "grid_auto_flow": null,
      "grid_auto_rows": null,
      "grid_column": null,
      "grid_gap": null,
      "grid_row": null,
      "grid_template_areas": null,
      "grid_template_columns": null,
      "grid_template_rows": null,
      "height": null,
      "justify_content": null,
      "justify_items": null,
      "left": null,
      "margin": null,
      "max_height": null,
      "max_width": null,
      "min_height": null,
      "min_width": null,
      "object_fit": null,
      "object_position": null,
      "order": null,
      "overflow": null,
      "overflow_x": null,
      "overflow_y": null,
      "padding": null,
      "right": null,
      "top": null,
      "visibility": null,
      "width": null
     }
    },
    "8c3eb9bcc95c48b7ad37a32e62e9441a": {
     "model_module": "@jupyter-widgets/controls",
     "model_module_version": "1.5.0",
     "model_name": "LabelModel",
     "state": {
      "_dom_classes": [],
      "_model_module": "@jupyter-widgets/controls",
      "_model_module_version": "1.5.0",
      "_model_name": "LabelModel",
      "_view_count": null,
      "_view_module": "@jupyter-widgets/controls",
      "_view_module_version": "1.5.0",
      "_view_name": "LabelView",
      "description": "",
      "description_tooltip": null,
      "layout": "IPY_MODEL_3479f5a526c8493f84fa3cd658c7a077",
      "placeholder": "​",
      "style": "IPY_MODEL_ec5cd0129b8747ed9ac64cf41d143e5c",
      "value": "0.013 MB of 0.013 MB uploaded\r"
     }
    },
    "8d90836db211411a83fc09a8ff73bec6": {
     "model_module": "@jupyter-widgets/base",
     "model_module_version": "1.2.0",
     "model_name": "LayoutModel",
     "state": {
      "_model_module": "@jupyter-widgets/base",
      "_model_module_version": "1.2.0",
      "_model_name": "LayoutModel",
      "_view_count": null,
      "_view_module": "@jupyter-widgets/base",
      "_view_module_version": "1.2.0",
      "_view_name": "LayoutView",
      "align_content": null,
      "align_items": null,
      "align_self": null,
      "border": null,
      "bottom": null,
      "display": null,
      "flex": null,
      "flex_flow": null,
      "grid_area": null,
      "grid_auto_columns": null,
      "grid_auto_flow": null,
      "grid_auto_rows": null,
      "grid_column": null,
      "grid_gap": null,
      "grid_row": null,
      "grid_template_areas": null,
      "grid_template_columns": null,
      "grid_template_rows": null,
      "height": null,
      "justify_content": null,
      "justify_items": null,
      "left": null,
      "margin": null,
      "max_height": null,
      "max_width": null,
      "min_height": null,
      "min_width": null,
      "object_fit": null,
      "object_position": null,
      "order": null,
      "overflow": null,
      "overflow_x": null,
      "overflow_y": null,
      "padding": null,
      "right": null,
      "top": null,
      "visibility": null,
      "width": null
     }
    },
    "8f2a1a9de65b442a94b8fce4265008d6": {
     "model_module": "@jupyter-widgets/controls",
     "model_module_version": "1.5.0",
     "model_name": "ProgressStyleModel",
     "state": {
      "_model_module": "@jupyter-widgets/controls",
      "_model_module_version": "1.5.0",
      "_model_name": "ProgressStyleModel",
      "_view_count": null,
      "_view_module": "@jupyter-widgets/base",
      "_view_module_version": "1.2.0",
      "_view_name": "StyleView",
      "bar_color": null,
      "description_width": ""
     }
    },
    "9e0ca6d6893e45cf84f3983ac9eae2cb": {
     "model_module": "@jupyter-widgets/controls",
     "model_module_version": "1.5.0",
     "model_name": "ProgressStyleModel",
     "state": {
      "_model_module": "@jupyter-widgets/controls",
      "_model_module_version": "1.5.0",
      "_model_name": "ProgressStyleModel",
      "_view_count": null,
      "_view_module": "@jupyter-widgets/base",
      "_view_module_version": "1.2.0",
      "_view_name": "StyleView",
      "bar_color": null,
      "description_width": ""
     }
    },
    "a1fcd27fcca54129b1ce2f345463a269": {
     "model_module": "@jupyter-widgets/controls",
     "model_module_version": "1.5.0",
     "model_name": "DescriptionStyleModel",
     "state": {
      "_model_module": "@jupyter-widgets/controls",
      "_model_module_version": "1.5.0",
      "_model_name": "DescriptionStyleModel",
      "_view_count": null,
      "_view_module": "@jupyter-widgets/base",
      "_view_module_version": "1.2.0",
      "_view_name": "StyleView",
      "description_width": ""
     }
    },
    "a39bc0fc8fb34b78be962c0e8412b3a1": {
     "model_module": "@jupyter-widgets/base",
     "model_module_version": "1.2.0",
     "model_name": "LayoutModel",
     "state": {
      "_model_module": "@jupyter-widgets/base",
      "_model_module_version": "1.2.0",
      "_model_name": "LayoutModel",
      "_view_count": null,
      "_view_module": "@jupyter-widgets/base",
      "_view_module_version": "1.2.0",
      "_view_name": "LayoutView",
      "align_content": null,
      "align_items": null,
      "align_self": null,
      "border": null,
      "bottom": null,
      "display": null,
      "flex": null,
      "flex_flow": null,
      "grid_area": null,
      "grid_auto_columns": null,
      "grid_auto_flow": null,
      "grid_auto_rows": null,
      "grid_column": null,
      "grid_gap": null,
      "grid_row": null,
      "grid_template_areas": null,
      "grid_template_columns": null,
      "grid_template_rows": null,
      "height": null,
      "justify_content": null,
      "justify_items": null,
      "left": null,
      "margin": null,
      "max_height": null,
      "max_width": null,
      "min_height": null,
      "min_width": null,
      "object_fit": null,
      "object_position": null,
      "order": null,
      "overflow": null,
      "overflow_x": null,
      "overflow_y": null,
      "padding": null,
      "right": null,
      "top": null,
      "visibility": null,
      "width": null
     }
    },
    "a62c0c651e6d494786413d3b869238ce": {
     "model_module": "@jupyter-widgets/controls",
     "model_module_version": "1.5.0",
     "model_name": "ProgressStyleModel",
     "state": {
      "_model_module": "@jupyter-widgets/controls",
      "_model_module_version": "1.5.0",
      "_model_name": "ProgressStyleModel",
      "_view_count": null,
      "_view_module": "@jupyter-widgets/base",
      "_view_module_version": "1.2.0",
      "_view_name": "StyleView",
      "bar_color": null,
      "description_width": ""
     }
    },
    "aad8b475316347cf8e2658404ab1b4ec": {
     "model_module": "@jupyter-widgets/controls",
     "model_module_version": "1.5.0",
     "model_name": "ProgressStyleModel",
     "state": {
      "_model_module": "@jupyter-widgets/controls",
      "_model_module_version": "1.5.0",
      "_model_name": "ProgressStyleModel",
      "_view_count": null,
      "_view_module": "@jupyter-widgets/base",
      "_view_module_version": "1.2.0",
      "_view_name": "StyleView",
      "bar_color": null,
      "description_width": ""
     }
    },
    "b43bf94c783249be842dbbc08770d0f7": {
     "model_module": "@jupyter-widgets/controls",
     "model_module_version": "1.5.0",
     "model_name": "LabelModel",
     "state": {
      "_dom_classes": [],
      "_model_module": "@jupyter-widgets/controls",
      "_model_module_version": "1.5.0",
      "_model_name": "LabelModel",
      "_view_count": null,
      "_view_module": "@jupyter-widgets/controls",
      "_view_module_version": "1.5.0",
      "_view_name": "LabelView",
      "description": "",
      "description_tooltip": null,
      "layout": "IPY_MODEL_cd1151225ac345d88e127cf821c412bb",
      "placeholder": "​",
      "style": "IPY_MODEL_7dbf81707d5a43b18eb189f27e4eead3",
      "value": "0.013 MB of 0.013 MB uploaded\r"
     }
    },
    "b71c5cc187fb40958d699ca9638fd547": {
     "model_module": "@jupyter-widgets/base",
     "model_module_version": "1.2.0",
     "model_name": "LayoutModel",
     "state": {
      "_model_module": "@jupyter-widgets/base",
      "_model_module_version": "1.2.0",
      "_model_name": "LayoutModel",
      "_view_count": null,
      "_view_module": "@jupyter-widgets/base",
      "_view_module_version": "1.2.0",
      "_view_name": "LayoutView",
      "align_content": null,
      "align_items": null,
      "align_self": null,
      "border": null,
      "bottom": null,
      "display": null,
      "flex": null,
      "flex_flow": null,
      "grid_area": null,
      "grid_auto_columns": null,
      "grid_auto_flow": null,
      "grid_auto_rows": null,
      "grid_column": null,
      "grid_gap": null,
      "grid_row": null,
      "grid_template_areas": null,
      "grid_template_columns": null,
      "grid_template_rows": null,
      "height": null,
      "justify_content": null,
      "justify_items": null,
      "left": null,
      "margin": null,
      "max_height": null,
      "max_width": null,
      "min_height": null,
      "min_width": null,
      "object_fit": null,
      "object_position": null,
      "order": null,
      "overflow": null,
      "overflow_x": null,
      "overflow_y": null,
      "padding": null,
      "right": null,
      "top": null,
      "visibility": null,
      "width": null
     }
    },
    "c01590f5c6d9407a861e66f3acab42f5": {
     "model_module": "@jupyter-widgets/base",
     "model_module_version": "1.2.0",
     "model_name": "LayoutModel",
     "state": {
      "_model_module": "@jupyter-widgets/base",
      "_model_module_version": "1.2.0",
      "_model_name": "LayoutModel",
      "_view_count": null,
      "_view_module": "@jupyter-widgets/base",
      "_view_module_version": "1.2.0",
      "_view_name": "LayoutView",
      "align_content": null,
      "align_items": null,
      "align_self": null,
      "border": null,
      "bottom": null,
      "display": null,
      "flex": null,
      "flex_flow": null,
      "grid_area": null,
      "grid_auto_columns": null,
      "grid_auto_flow": null,
      "grid_auto_rows": null,
      "grid_column": null,
      "grid_gap": null,
      "grid_row": null,
      "grid_template_areas": null,
      "grid_template_columns": null,
      "grid_template_rows": null,
      "height": null,
      "justify_content": null,
      "justify_items": null,
      "left": null,
      "margin": null,
      "max_height": null,
      "max_width": null,
      "min_height": null,
      "min_width": null,
      "object_fit": null,
      "object_position": null,
      "order": null,
      "overflow": null,
      "overflow_x": null,
      "overflow_y": null,
      "padding": null,
      "right": null,
      "top": null,
      "visibility": null,
      "width": null
     }
    },
    "c051b46b03b44520a9dd13b35a01e7a3": {
     "model_module": "@jupyter-widgets/controls",
     "model_module_version": "1.5.0",
     "model_name": "DescriptionStyleModel",
     "state": {
      "_model_module": "@jupyter-widgets/controls",
      "_model_module_version": "1.5.0",
      "_model_name": "DescriptionStyleModel",
      "_view_count": null,
      "_view_module": "@jupyter-widgets/base",
      "_view_module_version": "1.2.0",
      "_view_name": "StyleView",
      "description_width": ""
     }
    },
    "cb4f471eba0242c2afc68362308fd463": {
     "model_module": "@jupyter-widgets/base",
     "model_module_version": "1.2.0",
     "model_name": "LayoutModel",
     "state": {
      "_model_module": "@jupyter-widgets/base",
      "_model_module_version": "1.2.0",
      "_model_name": "LayoutModel",
      "_view_count": null,
      "_view_module": "@jupyter-widgets/base",
      "_view_module_version": "1.2.0",
      "_view_name": "LayoutView",
      "align_content": null,
      "align_items": null,
      "align_self": null,
      "border": null,
      "bottom": null,
      "display": null,
      "flex": null,
      "flex_flow": null,
      "grid_area": null,
      "grid_auto_columns": null,
      "grid_auto_flow": null,
      "grid_auto_rows": null,
      "grid_column": null,
      "grid_gap": null,
      "grid_row": null,
      "grid_template_areas": null,
      "grid_template_columns": null,
      "grid_template_rows": null,
      "height": null,
      "justify_content": null,
      "justify_items": null,
      "left": null,
      "margin": null,
      "max_height": null,
      "max_width": null,
      "min_height": null,
      "min_width": null,
      "object_fit": null,
      "object_position": null,
      "order": null,
      "overflow": null,
      "overflow_x": null,
      "overflow_y": null,
      "padding": null,
      "right": null,
      "top": null,
      "visibility": null,
      "width": null
     }
    },
    "cc81013b7ad34117b5f71dd5b97e1fcd": {
     "model_module": "@jupyter-widgets/controls",
     "model_module_version": "1.5.0",
     "model_name": "LabelModel",
     "state": {
      "_dom_classes": [],
      "_model_module": "@jupyter-widgets/controls",
      "_model_module_version": "1.5.0",
      "_model_name": "LabelModel",
      "_view_count": null,
      "_view_module": "@jupyter-widgets/controls",
      "_view_module_version": "1.5.0",
      "_view_name": "LabelView",
      "description": "",
      "description_tooltip": null,
      "layout": "IPY_MODEL_7fa12c1c20a943b2867bb4d32d2a3e93",
      "placeholder": "​",
      "style": "IPY_MODEL_3c8efaed917c4d0eb7f2357690f3962c",
      "value": "0.013 MB of 0.013 MB uploaded\r"
     }
    },
    "cd1151225ac345d88e127cf821c412bb": {
     "model_module": "@jupyter-widgets/base",
     "model_module_version": "1.2.0",
     "model_name": "LayoutModel",
     "state": {
      "_model_module": "@jupyter-widgets/base",
      "_model_module_version": "1.2.0",
      "_model_name": "LayoutModel",
      "_view_count": null,
      "_view_module": "@jupyter-widgets/base",
      "_view_module_version": "1.2.0",
      "_view_name": "LayoutView",
      "align_content": null,
      "align_items": null,
      "align_self": null,
      "border": null,
      "bottom": null,
      "display": null,
      "flex": null,
      "flex_flow": null,
      "grid_area": null,
      "grid_auto_columns": null,
      "grid_auto_flow": null,
      "grid_auto_rows": null,
      "grid_column": null,
      "grid_gap": null,
      "grid_row": null,
      "grid_template_areas": null,
      "grid_template_columns": null,
      "grid_template_rows": null,
      "height": null,
      "justify_content": null,
      "justify_items": null,
      "left": null,
      "margin": null,
      "max_height": null,
      "max_width": null,
      "min_height": null,
      "min_width": null,
      "object_fit": null,
      "object_position": null,
      "order": null,
      "overflow": null,
      "overflow_x": null,
      "overflow_y": null,
      "padding": null,
      "right": null,
      "top": null,
      "visibility": null,
      "width": null
     }
    },
    "ce9d55372677460e82ac9af42d9eaea7": {
     "model_module": "@jupyter-widgets/base",
     "model_module_version": "1.2.0",
     "model_name": "LayoutModel",
     "state": {
      "_model_module": "@jupyter-widgets/base",
      "_model_module_version": "1.2.0",
      "_model_name": "LayoutModel",
      "_view_count": null,
      "_view_module": "@jupyter-widgets/base",
      "_view_module_version": "1.2.0",
      "_view_name": "LayoutView",
      "align_content": null,
      "align_items": null,
      "align_self": null,
      "border": null,
      "bottom": null,
      "display": null,
      "flex": null,
      "flex_flow": null,
      "grid_area": null,
      "grid_auto_columns": null,
      "grid_auto_flow": null,
      "grid_auto_rows": null,
      "grid_column": null,
      "grid_gap": null,
      "grid_row": null,
      "grid_template_areas": null,
      "grid_template_columns": null,
      "grid_template_rows": null,
      "height": null,
      "justify_content": null,
      "justify_items": null,
      "left": null,
      "margin": null,
      "max_height": null,
      "max_width": null,
      "min_height": null,
      "min_width": null,
      "object_fit": null,
      "object_position": null,
      "order": null,
      "overflow": null,
      "overflow_x": null,
      "overflow_y": null,
      "padding": null,
      "right": null,
      "top": null,
      "visibility": null,
      "width": null
     }
    },
    "d3c73e00fad54fcdb5b1f48751e54591": {
     "model_module": "@jupyter-widgets/controls",
     "model_module_version": "1.5.0",
     "model_name": "VBoxModel",
     "state": {
      "_dom_classes": [],
      "_model_module": "@jupyter-widgets/controls",
      "_model_module_version": "1.5.0",
      "_model_name": "VBoxModel",
      "_view_count": null,
      "_view_module": "@jupyter-widgets/controls",
      "_view_module_version": "1.5.0",
      "_view_name": "VBoxView",
      "box_style": "",
      "children": [
       "IPY_MODEL_6f5ca3e1b7c64fefa16f9e16b06934ee",
       "IPY_MODEL_13a557c794234327909953a53cd177e0"
      ],
      "layout": "IPY_MODEL_ce9d55372677460e82ac9af42d9eaea7"
     }
    },
    "d7a4fa6f805a4763b9a4f88a0823affd": {
     "model_module": "@jupyter-widgets/base",
     "model_module_version": "1.2.0",
     "model_name": "LayoutModel",
     "state": {
      "_model_module": "@jupyter-widgets/base",
      "_model_module_version": "1.2.0",
      "_model_name": "LayoutModel",
      "_view_count": null,
      "_view_module": "@jupyter-widgets/base",
      "_view_module_version": "1.2.0",
      "_view_name": "LayoutView",
      "align_content": null,
      "align_items": null,
      "align_self": null,
      "border": null,
      "bottom": null,
      "display": null,
      "flex": null,
      "flex_flow": null,
      "grid_area": null,
      "grid_auto_columns": null,
      "grid_auto_flow": null,
      "grid_auto_rows": null,
      "grid_column": null,
      "grid_gap": null,
      "grid_row": null,
      "grid_template_areas": null,
      "grid_template_columns": null,
      "grid_template_rows": null,
      "height": null,
      "justify_content": null,
      "justify_items": null,
      "left": null,
      "margin": null,
      "max_height": null,
      "max_width": null,
      "min_height": null,
      "min_width": null,
      "object_fit": null,
      "object_position": null,
      "order": null,
      "overflow": null,
      "overflow_x": null,
      "overflow_y": null,
      "padding": null,
      "right": null,
      "top": null,
      "visibility": null,
      "width": null
     }
    },
    "dcd8d9bb3de54aa185e7d54fc4dfcedf": {
     "model_module": "@jupyter-widgets/base",
     "model_module_version": "1.2.0",
     "model_name": "LayoutModel",
     "state": {
      "_model_module": "@jupyter-widgets/base",
      "_model_module_version": "1.2.0",
      "_model_name": "LayoutModel",
      "_view_count": null,
      "_view_module": "@jupyter-widgets/base",
      "_view_module_version": "1.2.0",
      "_view_name": "LayoutView",
      "align_content": null,
      "align_items": null,
      "align_self": null,
      "border": null,
      "bottom": null,
      "display": null,
      "flex": null,
      "flex_flow": null,
      "grid_area": null,
      "grid_auto_columns": null,
      "grid_auto_flow": null,
      "grid_auto_rows": null,
      "grid_column": null,
      "grid_gap": null,
      "grid_row": null,
      "grid_template_areas": null,
      "grid_template_columns": null,
      "grid_template_rows": null,
      "height": null,
      "justify_content": null,
      "justify_items": null,
      "left": null,
      "margin": null,
      "max_height": null,
      "max_width": null,
      "min_height": null,
      "min_width": null,
      "object_fit": null,
      "object_position": null,
      "order": null,
      "overflow": null,
      "overflow_x": null,
      "overflow_y": null,
      "padding": null,
      "right": null,
      "top": null,
      "visibility": null,
      "width": null
     }
    },
    "ddb8849d2a4d45d5a028f4fc0f2d9b01": {
     "model_module": "@jupyter-widgets/controls",
     "model_module_version": "1.5.0",
     "model_name": "VBoxModel",
     "state": {
      "_dom_classes": [],
      "_model_module": "@jupyter-widgets/controls",
      "_model_module_version": "1.5.0",
      "_model_name": "VBoxModel",
      "_view_count": null,
      "_view_module": "@jupyter-widgets/controls",
      "_view_module_version": "1.5.0",
      "_view_name": "VBoxView",
      "box_style": "",
      "children": [
       "IPY_MODEL_8c3eb9bcc95c48b7ad37a32e62e9441a",
       "IPY_MODEL_72afb9e1ca414e6dbbc05c6d0849878f"
      ],
      "layout": "IPY_MODEL_b71c5cc187fb40958d699ca9638fd547"
     }
    },
    "e2c1cfca17a6402bbdedd1558bceb3f8": {
     "model_module": "@jupyter-widgets/controls",
     "model_module_version": "1.5.0",
     "model_name": "VBoxModel",
     "state": {
      "_dom_classes": [],
      "_model_module": "@jupyter-widgets/controls",
      "_model_module_version": "1.5.0",
      "_model_name": "VBoxModel",
      "_view_count": null,
      "_view_module": "@jupyter-widgets/controls",
      "_view_module_version": "1.5.0",
      "_view_name": "VBoxView",
      "box_style": "",
      "children": [
       "IPY_MODEL_54a7469a02c44c7cb2ab546e483b9799",
       "IPY_MODEL_50666e759d624df3b30bcb0e6bc096e3"
      ],
      "layout": "IPY_MODEL_f93a2aa668aa438cbbeb0a00070ce25c"
     }
    },
    "e582564470dd45c08c4652e32053bd84": {
     "model_module": "@jupyter-widgets/base",
     "model_module_version": "1.2.0",
     "model_name": "LayoutModel",
     "state": {
      "_model_module": "@jupyter-widgets/base",
      "_model_module_version": "1.2.0",
      "_model_name": "LayoutModel",
      "_view_count": null,
      "_view_module": "@jupyter-widgets/base",
      "_view_module_version": "1.2.0",
      "_view_name": "LayoutView",
      "align_content": null,
      "align_items": null,
      "align_self": null,
      "border": null,
      "bottom": null,
      "display": null,
      "flex": null,
      "flex_flow": null,
      "grid_area": null,
      "grid_auto_columns": null,
      "grid_auto_flow": null,
      "grid_auto_rows": null,
      "grid_column": null,
      "grid_gap": null,
      "grid_row": null,
      "grid_template_areas": null,
      "grid_template_columns": null,
      "grid_template_rows": null,
      "height": null,
      "justify_content": null,
      "justify_items": null,
      "left": null,
      "margin": null,
      "max_height": null,
      "max_width": null,
      "min_height": null,
      "min_width": null,
      "object_fit": null,
      "object_position": null,
      "order": null,
      "overflow": null,
      "overflow_x": null,
      "overflow_y": null,
      "padding": null,
      "right": null,
      "top": null,
      "visibility": null,
      "width": null
     }
    },
    "e7beb977b77f475fa97b1add4fe9be25": {
     "model_module": "@jupyter-widgets/controls",
     "model_module_version": "1.5.0",
     "model_name": "LabelModel",
     "state": {
      "_dom_classes": [],
      "_model_module": "@jupyter-widgets/controls",
      "_model_module_version": "1.5.0",
      "_model_name": "LabelModel",
      "_view_count": null,
      "_view_module": "@jupyter-widgets/controls",
      "_view_module_version": "1.5.0",
      "_view_name": "LabelView",
      "description": "",
      "description_tooltip": null,
      "layout": "IPY_MODEL_0ed9bb1cb4d3435e9cdbc30253e42cd4",
      "placeholder": "​",
      "style": "IPY_MODEL_75ad65c98ca042d7b3d4ad36c6fb2c35",
      "value": "0.013 MB of 0.013 MB uploaded\r"
     }
    },
    "ec5cd0129b8747ed9ac64cf41d143e5c": {
     "model_module": "@jupyter-widgets/controls",
     "model_module_version": "1.5.0",
     "model_name": "DescriptionStyleModel",
     "state": {
      "_model_module": "@jupyter-widgets/controls",
      "_model_module_version": "1.5.0",
      "_model_name": "DescriptionStyleModel",
      "_view_count": null,
      "_view_module": "@jupyter-widgets/base",
      "_view_module_version": "1.2.0",
      "_view_name": "StyleView",
      "description_width": ""
     }
    },
    "f93a2aa668aa438cbbeb0a00070ce25c": {
     "model_module": "@jupyter-widgets/base",
     "model_module_version": "1.2.0",
     "model_name": "LayoutModel",
     "state": {
      "_model_module": "@jupyter-widgets/base",
      "_model_module_version": "1.2.0",
      "_model_name": "LayoutModel",
      "_view_count": null,
      "_view_module": "@jupyter-widgets/base",
      "_view_module_version": "1.2.0",
      "_view_name": "LayoutView",
      "align_content": null,
      "align_items": null,
      "align_self": null,
      "border": null,
      "bottom": null,
      "display": null,
      "flex": null,
      "flex_flow": null,
      "grid_area": null,
      "grid_auto_columns": null,
      "grid_auto_flow": null,
      "grid_auto_rows": null,
      "grid_column": null,
      "grid_gap": null,
      "grid_row": null,
      "grid_template_areas": null,
      "grid_template_columns": null,
      "grid_template_rows": null,
      "height": null,
      "justify_content": null,
      "justify_items": null,
      "left": null,
      "margin": null,
      "max_height": null,
      "max_width": null,
      "min_height": null,
      "min_width": null,
      "object_fit": null,
      "object_position": null,
      "order": null,
      "overflow": null,
      "overflow_x": null,
      "overflow_y": null,
      "padding": null,
      "right": null,
      "top": null,
      "visibility": null,
      "width": null
     }
    },
    "fdadc5d637aa4c9bbc981caecc097aa9": {
     "model_module": "@jupyter-widgets/controls",
     "model_module_version": "1.5.0",
     "model_name": "VBoxModel",
     "state": {
      "_dom_classes": [],
      "_model_module": "@jupyter-widgets/controls",
      "_model_module_version": "1.5.0",
      "_model_name": "VBoxModel",
      "_view_count": null,
      "_view_module": "@jupyter-widgets/controls",
      "_view_module_version": "1.5.0",
      "_view_name": "VBoxView",
      "box_style": "",
      "children": [
       "IPY_MODEL_76d008f3e38f4c22af28f8ebc3d5df85",
       "IPY_MODEL_40c0f79660eb458c8e191f917d40954c"
      ],
      "layout": "IPY_MODEL_d7a4fa6f805a4763b9a4f88a0823affd"
     }
    }
   }
  }
 },
 "nbformat": 4,
 "nbformat_minor": 4
}
